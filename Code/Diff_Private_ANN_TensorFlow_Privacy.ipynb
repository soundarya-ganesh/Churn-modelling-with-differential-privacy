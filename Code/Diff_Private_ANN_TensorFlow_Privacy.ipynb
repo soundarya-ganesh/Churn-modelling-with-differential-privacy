{
 "cells": [
  {
   "cell_type": "markdown",
   "metadata": {
    "id": "KwDK47gfLsYf"
   },
   "source": [
    "# Implementing a Differentially Private ANN with TensorFlow Privacy, for Bank Customer Churn Prediction"
   ]
  },
  {
   "cell_type": "markdown",
   "metadata": {
    "id": "ijJYKVc05DYX"
   },
   "source": [
    "## Importing Libraries"
   ]
  },
  {
   "cell_type": "code",
   "execution_count": 2,
   "metadata": {
    "id": "ef56gCUqrdVn"
   },
   "outputs": [],
   "source": [
    "from __future__ import absolute_import\n",
    "from __future__ import division\n",
    "from __future__ import print_function\n",
    "\n",
    "import tensorflow as tf\n",
    "\n",
    "import numpy as np\n",
    "import pandas as pd"
   ]
  },
  {
   "cell_type": "markdown",
   "metadata": {
    "id": "r_fVhfUyeI3d"
   },
   "source": [
    "Install TensorFlow Privacy."
   ]
  },
  {
   "cell_type": "code",
   "execution_count": 3,
   "metadata": {
    "colab": {
     "base_uri": "https://localhost:8080/",
     "height": 0
    },
    "id": "RseeuA7veIHU",
    "outputId": "012db05c-bf29-464f-82e6-9cccee5b053f"
   },
   "outputs": [
    {
     "name": "stdout",
     "output_type": "stream",
     "text": [
      "Collecting tensorflow_privacy\n",
      "  Downloading tensorflow_privacy-0.7.3-py3-none-any.whl (251 kB)\n",
      "\u001b[K     |████████████████████████████████| 251 kB 5.3 MB/s \n",
      "\u001b[?25hRequirement already satisfied: mpmath in /usr/local/lib/python3.7/dist-packages (from tensorflow_privacy) (1.2.1)\n",
      "Requirement already satisfied: tensorflow-probability>=0.13.0 in /usr/local/lib/python3.7/dist-packages (from tensorflow_privacy) (0.15.0)\n",
      "Requirement already satisfied: scipy>=0.17 in /usr/local/lib/python3.7/dist-packages (from tensorflow_privacy) (1.4.1)\n",
      "Requirement already satisfied: dm-tree~=0.1.1 in /usr/local/lib/python3.7/dist-packages (from tensorflow_privacy) (0.1.6)\n",
      "Requirement already satisfied: attrs>=21.2.0 in /usr/local/lib/python3.7/dist-packages (from tensorflow_privacy) (21.2.0)\n",
      "Requirement already satisfied: tensorflow-estimator>=2.3.0 in /usr/local/lib/python3.7/dist-packages (from tensorflow_privacy) (2.7.0)\n",
      "Collecting tensorflow-datasets>=4.4.0\n",
      "  Downloading tensorflow_datasets-4.4.0-py3-none-any.whl (4.0 MB)\n",
      "\u001b[K     |████████████████████████████████| 4.0 MB 34.1 MB/s \n",
      "\u001b[?25hRequirement already satisfied: six>=1.12.0 in /usr/local/lib/python3.7/dist-packages (from dm-tree~=0.1.1->tensorflow_privacy) (1.15.0)\n",
      "Requirement already satisfied: numpy>=1.13.3 in /usr/local/lib/python3.7/dist-packages (from scipy>=0.17->tensorflow_privacy) (1.19.5)\n",
      "Requirement already satisfied: promise in /usr/local/lib/python3.7/dist-packages (from tensorflow-datasets>=4.4.0->tensorflow_privacy) (2.3)\n",
      "Requirement already satisfied: tensorflow-metadata in /usr/local/lib/python3.7/dist-packages (from tensorflow-datasets>=4.4.0->tensorflow_privacy) (1.4.0)\n",
      "Requirement already satisfied: requests>=2.19.0 in /usr/local/lib/python3.7/dist-packages (from tensorflow-datasets>=4.4.0->tensorflow_privacy) (2.23.0)\n",
      "Requirement already satisfied: termcolor in /usr/local/lib/python3.7/dist-packages (from tensorflow-datasets>=4.4.0->tensorflow_privacy) (1.1.0)\n",
      "Requirement already satisfied: typing-extensions in /usr/local/lib/python3.7/dist-packages (from tensorflow-datasets>=4.4.0->tensorflow_privacy) (3.10.0.2)\n",
      "Requirement already satisfied: future in /usr/local/lib/python3.7/dist-packages (from tensorflow-datasets>=4.4.0->tensorflow_privacy) (0.16.0)\n",
      "Requirement already satisfied: protobuf>=3.12.2 in /usr/local/lib/python3.7/dist-packages (from tensorflow-datasets>=4.4.0->tensorflow_privacy) (3.17.3)\n",
      "Requirement already satisfied: dill in /usr/local/lib/python3.7/dist-packages (from tensorflow-datasets>=4.4.0->tensorflow_privacy) (0.3.4)\n",
      "Requirement already satisfied: tqdm in /usr/local/lib/python3.7/dist-packages (from tensorflow-datasets>=4.4.0->tensorflow_privacy) (4.62.3)\n",
      "Requirement already satisfied: importlib-resources in /usr/local/lib/python3.7/dist-packages (from tensorflow-datasets>=4.4.0->tensorflow_privacy) (5.4.0)\n",
      "Requirement already satisfied: absl-py in /usr/local/lib/python3.7/dist-packages (from tensorflow-datasets>=4.4.0->tensorflow_privacy) (0.12.0)\n",
      "Requirement already satisfied: idna<3,>=2.5 in /usr/local/lib/python3.7/dist-packages (from requests>=2.19.0->tensorflow-datasets>=4.4.0->tensorflow_privacy) (2.10)\n",
      "Requirement already satisfied: certifi>=2017.4.17 in /usr/local/lib/python3.7/dist-packages (from requests>=2.19.0->tensorflow-datasets>=4.4.0->tensorflow_privacy) (2021.10.8)\n",
      "Requirement already satisfied: urllib3!=1.25.0,!=1.25.1,<1.26,>=1.21.1 in /usr/local/lib/python3.7/dist-packages (from requests>=2.19.0->tensorflow-datasets>=4.4.0->tensorflow_privacy) (1.24.3)\n",
      "Requirement already satisfied: chardet<4,>=3.0.2 in /usr/local/lib/python3.7/dist-packages (from requests>=2.19.0->tensorflow-datasets>=4.4.0->tensorflow_privacy) (3.0.4)\n",
      "Requirement already satisfied: gast>=0.3.2 in /usr/local/lib/python3.7/dist-packages (from tensorflow-probability>=0.13.0->tensorflow_privacy) (0.4.0)\n",
      "Requirement already satisfied: cloudpickle>=1.3 in /usr/local/lib/python3.7/dist-packages (from tensorflow-probability>=0.13.0->tensorflow_privacy) (1.3.0)\n",
      "Requirement already satisfied: decorator in /usr/local/lib/python3.7/dist-packages (from tensorflow-probability>=0.13.0->tensorflow_privacy) (4.4.2)\n",
      "Requirement already satisfied: zipp>=3.1.0 in /usr/local/lib/python3.7/dist-packages (from importlib-resources->tensorflow-datasets>=4.4.0->tensorflow_privacy) (3.6.0)\n",
      "Requirement already satisfied: googleapis-common-protos<2,>=1.52.0 in /usr/local/lib/python3.7/dist-packages (from tensorflow-metadata->tensorflow-datasets>=4.4.0->tensorflow_privacy) (1.53.0)\n",
      "Installing collected packages: tensorflow-datasets, tensorflow-privacy\n",
      "  Attempting uninstall: tensorflow-datasets\n",
      "    Found existing installation: tensorflow-datasets 4.0.1\n",
      "    Uninstalling tensorflow-datasets-4.0.1:\n",
      "      Successfully uninstalled tensorflow-datasets-4.0.1\n",
      "Successfully installed tensorflow-datasets-4.4.0 tensorflow-privacy-0.7.3\n"
     ]
    }
   ],
   "source": [
    "!pip install tensorflow_privacy\n",
    "\n",
    "from tensorflow_privacy.privacy.analysis import compute_dp_sgd_privacy\n",
    "from tensorflow_privacy.privacy.optimizers.dp_optimizer_keras import DPKerasSGDOptimizer\n",
    "from tensorflow_privacy.privacy.optimizers.dp_optimizer_keras import DPKerasAdamOptimizer"
   ]
  },
  {
   "cell_type": "markdown",
   "metadata": {
    "id": "mU1p8N7M5Mmn"
   },
   "source": [
    "## Load pre-processed Churn Modelling Dataset and Create Test and Train Datasets with Split\n",
    "\n",
    "\n"
   ]
  },
  {
   "cell_type": "code",
   "execution_count": 4,
   "metadata": {
    "colab": {
     "base_uri": "https://localhost:8080/",
     "height": 223
    },
    "id": "8jedMfHefCyE",
    "outputId": "146a3bd3-7d24-4f6f-92ac-f96ef57e5a87"
   },
   "outputs": [
    {
     "data": {
      "text/html": [
       "<div>\n",
       "<style scoped>\n",
       "    .dataframe tbody tr th:only-of-type {\n",
       "        vertical-align: middle;\n",
       "    }\n",
       "\n",
       "    .dataframe tbody tr th {\n",
       "        vertical-align: top;\n",
       "    }\n",
       "\n",
       "    .dataframe thead th {\n",
       "        text-align: right;\n",
       "    }\n",
       "</style>\n",
       "<table border=\"1\" class=\"dataframe\">\n",
       "  <thead>\n",
       "    <tr style=\"text-align: right;\">\n",
       "      <th></th>\n",
       "      <th>RowNumber</th>\n",
       "      <th>CustomerId</th>\n",
       "      <th>Surname</th>\n",
       "      <th>CreditScore</th>\n",
       "      <th>Geography</th>\n",
       "      <th>Gender</th>\n",
       "      <th>Age</th>\n",
       "      <th>Tenure</th>\n",
       "      <th>Balance</th>\n",
       "      <th>NumOfProducts</th>\n",
       "      <th>HasCrCard</th>\n",
       "      <th>IsActiveMember</th>\n",
       "      <th>EstimatedSalary</th>\n",
       "      <th>Exited</th>\n",
       "    </tr>\n",
       "  </thead>\n",
       "  <tbody>\n",
       "    <tr>\n",
       "      <th>0</th>\n",
       "      <td>1</td>\n",
       "      <td>15634602</td>\n",
       "      <td>Hargrave</td>\n",
       "      <td>619</td>\n",
       "      <td>France</td>\n",
       "      <td>Female</td>\n",
       "      <td>42</td>\n",
       "      <td>2</td>\n",
       "      <td>0.00</td>\n",
       "      <td>1</td>\n",
       "      <td>1</td>\n",
       "      <td>1</td>\n",
       "      <td>101348.88</td>\n",
       "      <td>1</td>\n",
       "    </tr>\n",
       "    <tr>\n",
       "      <th>1</th>\n",
       "      <td>2</td>\n",
       "      <td>15647311</td>\n",
       "      <td>Hill</td>\n",
       "      <td>608</td>\n",
       "      <td>Spain</td>\n",
       "      <td>Female</td>\n",
       "      <td>41</td>\n",
       "      <td>1</td>\n",
       "      <td>83807.86</td>\n",
       "      <td>1</td>\n",
       "      <td>0</td>\n",
       "      <td>1</td>\n",
       "      <td>112542.58</td>\n",
       "      <td>0</td>\n",
       "    </tr>\n",
       "    <tr>\n",
       "      <th>2</th>\n",
       "      <td>3</td>\n",
       "      <td>15619304</td>\n",
       "      <td>Onio</td>\n",
       "      <td>502</td>\n",
       "      <td>France</td>\n",
       "      <td>Female</td>\n",
       "      <td>42</td>\n",
       "      <td>8</td>\n",
       "      <td>159660.80</td>\n",
       "      <td>3</td>\n",
       "      <td>1</td>\n",
       "      <td>0</td>\n",
       "      <td>113931.57</td>\n",
       "      <td>1</td>\n",
       "    </tr>\n",
       "    <tr>\n",
       "      <th>3</th>\n",
       "      <td>4</td>\n",
       "      <td>15701354</td>\n",
       "      <td>Boni</td>\n",
       "      <td>699</td>\n",
       "      <td>France</td>\n",
       "      <td>Female</td>\n",
       "      <td>39</td>\n",
       "      <td>1</td>\n",
       "      <td>0.00</td>\n",
       "      <td>2</td>\n",
       "      <td>0</td>\n",
       "      <td>0</td>\n",
       "      <td>93826.63</td>\n",
       "      <td>0</td>\n",
       "    </tr>\n",
       "    <tr>\n",
       "      <th>4</th>\n",
       "      <td>5</td>\n",
       "      <td>15737888</td>\n",
       "      <td>Mitchell</td>\n",
       "      <td>850</td>\n",
       "      <td>Spain</td>\n",
       "      <td>Female</td>\n",
       "      <td>43</td>\n",
       "      <td>2</td>\n",
       "      <td>125510.82</td>\n",
       "      <td>1</td>\n",
       "      <td>1</td>\n",
       "      <td>1</td>\n",
       "      <td>79084.10</td>\n",
       "      <td>0</td>\n",
       "    </tr>\n",
       "  </tbody>\n",
       "</table>\n",
       "</div>"
      ],
      "text/plain": [
       "   RowNumber  CustomerId   Surname  ...  IsActiveMember EstimatedSalary Exited\n",
       "0          1    15634602  Hargrave  ...               1       101348.88      1\n",
       "1          2    15647311      Hill  ...               1       112542.58      0\n",
       "2          3    15619304      Onio  ...               0       113931.57      1\n",
       "3          4    15701354      Boni  ...               0        93826.63      0\n",
       "4          5    15737888  Mitchell  ...               1        79084.10      0\n",
       "\n",
       "[5 rows x 14 columns]"
      ]
     },
     "execution_count": 4,
     "metadata": {},
     "output_type": "execute_result"
    }
   ],
   "source": [
    "df = pd.read_csv('Churn_Modelling.csv')\n",
    "df.head()"
   ]
  },
  {
   "cell_type": "code",
   "execution_count": 5,
   "metadata": {
    "id": "qV0fy7OZfG7E"
   },
   "outputs": [],
   "source": [
    "df=pd.get_dummies(df, columns=['Geography','Gender'])"
   ]
  },
  {
   "cell_type": "code",
   "execution_count": 6,
   "metadata": {
    "colab": {
     "base_uri": "https://localhost:8080/",
     "height": 223
    },
    "id": "mf6ETIp3fJYL",
    "outputId": "4dd726aa-4415-4f8c-b6a9-84b087eb0cc3"
   },
   "outputs": [
    {
     "data": {
      "text/html": [
       "<div>\n",
       "<style scoped>\n",
       "    .dataframe tbody tr th:only-of-type {\n",
       "        vertical-align: middle;\n",
       "    }\n",
       "\n",
       "    .dataframe tbody tr th {\n",
       "        vertical-align: top;\n",
       "    }\n",
       "\n",
       "    .dataframe thead th {\n",
       "        text-align: right;\n",
       "    }\n",
       "</style>\n",
       "<table border=\"1\" class=\"dataframe\">\n",
       "  <thead>\n",
       "    <tr style=\"text-align: right;\">\n",
       "      <th></th>\n",
       "      <th>CreditScore</th>\n",
       "      <th>Age</th>\n",
       "      <th>Tenure</th>\n",
       "      <th>Balance</th>\n",
       "      <th>NumOfProducts</th>\n",
       "      <th>HasCrCard</th>\n",
       "      <th>IsActiveMember</th>\n",
       "      <th>EstimatedSalary</th>\n",
       "      <th>Exited</th>\n",
       "      <th>Geography_France</th>\n",
       "      <th>Geography_Germany</th>\n",
       "      <th>Geography_Spain</th>\n",
       "      <th>Gender_Female</th>\n",
       "      <th>Gender_Male</th>\n",
       "    </tr>\n",
       "  </thead>\n",
       "  <tbody>\n",
       "    <tr>\n",
       "      <th>0</th>\n",
       "      <td>619</td>\n",
       "      <td>42</td>\n",
       "      <td>2</td>\n",
       "      <td>0.00</td>\n",
       "      <td>1</td>\n",
       "      <td>1</td>\n",
       "      <td>1</td>\n",
       "      <td>101348.88</td>\n",
       "      <td>1</td>\n",
       "      <td>1</td>\n",
       "      <td>0</td>\n",
       "      <td>0</td>\n",
       "      <td>1</td>\n",
       "      <td>0</td>\n",
       "    </tr>\n",
       "    <tr>\n",
       "      <th>1</th>\n",
       "      <td>608</td>\n",
       "      <td>41</td>\n",
       "      <td>1</td>\n",
       "      <td>83807.86</td>\n",
       "      <td>1</td>\n",
       "      <td>0</td>\n",
       "      <td>1</td>\n",
       "      <td>112542.58</td>\n",
       "      <td>0</td>\n",
       "      <td>0</td>\n",
       "      <td>0</td>\n",
       "      <td>1</td>\n",
       "      <td>1</td>\n",
       "      <td>0</td>\n",
       "    </tr>\n",
       "    <tr>\n",
       "      <th>2</th>\n",
       "      <td>502</td>\n",
       "      <td>42</td>\n",
       "      <td>8</td>\n",
       "      <td>159660.80</td>\n",
       "      <td>3</td>\n",
       "      <td>1</td>\n",
       "      <td>0</td>\n",
       "      <td>113931.57</td>\n",
       "      <td>1</td>\n",
       "      <td>1</td>\n",
       "      <td>0</td>\n",
       "      <td>0</td>\n",
       "      <td>1</td>\n",
       "      <td>0</td>\n",
       "    </tr>\n",
       "    <tr>\n",
       "      <th>3</th>\n",
       "      <td>699</td>\n",
       "      <td>39</td>\n",
       "      <td>1</td>\n",
       "      <td>0.00</td>\n",
       "      <td>2</td>\n",
       "      <td>0</td>\n",
       "      <td>0</td>\n",
       "      <td>93826.63</td>\n",
       "      <td>0</td>\n",
       "      <td>1</td>\n",
       "      <td>0</td>\n",
       "      <td>0</td>\n",
       "      <td>1</td>\n",
       "      <td>0</td>\n",
       "    </tr>\n",
       "    <tr>\n",
       "      <th>4</th>\n",
       "      <td>850</td>\n",
       "      <td>43</td>\n",
       "      <td>2</td>\n",
       "      <td>125510.82</td>\n",
       "      <td>1</td>\n",
       "      <td>1</td>\n",
       "      <td>1</td>\n",
       "      <td>79084.10</td>\n",
       "      <td>0</td>\n",
       "      <td>0</td>\n",
       "      <td>0</td>\n",
       "      <td>1</td>\n",
       "      <td>1</td>\n",
       "      <td>0</td>\n",
       "    </tr>\n",
       "  </tbody>\n",
       "</table>\n",
       "</div>"
      ],
      "text/plain": [
       "   CreditScore  Age  Tenure  ...  Geography_Spain  Gender_Female  Gender_Male\n",
       "0          619   42       2  ...                0              1            0\n",
       "1          608   41       1  ...                1              1            0\n",
       "2          502   42       8  ...                0              1            0\n",
       "3          699   39       1  ...                0              1            0\n",
       "4          850   43       2  ...                1              1            0\n",
       "\n",
       "[5 rows x 14 columns]"
      ]
     },
     "execution_count": 6,
     "metadata": {},
     "output_type": "execute_result"
    }
   ],
   "source": [
    "# Dropping columns which either don't help in prediction or can be used to identify individuals from Dataset \n",
    "\n",
    "df.drop(columns = ['RowNumber', 'CustomerId', 'Surname'], axis = 1, inplace = True)\n",
    "df.head()"
   ]
  },
  {
   "cell_type": "markdown",
   "metadata": {
    "id": "o19DMczgItMv"
   },
   "source": [
    "### Load the created Training Dataset"
   ]
  },
  {
   "cell_type": "code",
   "execution_count": 7,
   "metadata": {
    "id": "20mDvRAXhn-z"
   },
   "outputs": [],
   "source": [
    "X = df.loc[:, df.columns != 'Exited']"
   ]
  },
  {
   "cell_type": "code",
   "execution_count": 8,
   "metadata": {
    "colab": {
     "base_uri": "https://localhost:8080/",
     "height": 223
    },
    "id": "qqkcK9Q0ibve",
    "outputId": "fc3bb47b-4187-4116-8910-b2c68bf22fc3"
   },
   "outputs": [
    {
     "data": {
      "text/html": [
       "<div>\n",
       "<style scoped>\n",
       "    .dataframe tbody tr th:only-of-type {\n",
       "        vertical-align: middle;\n",
       "    }\n",
       "\n",
       "    .dataframe tbody tr th {\n",
       "        vertical-align: top;\n",
       "    }\n",
       "\n",
       "    .dataframe thead th {\n",
       "        text-align: right;\n",
       "    }\n",
       "</style>\n",
       "<table border=\"1\" class=\"dataframe\">\n",
       "  <thead>\n",
       "    <tr style=\"text-align: right;\">\n",
       "      <th></th>\n",
       "      <th>CreditScore</th>\n",
       "      <th>Age</th>\n",
       "      <th>Tenure</th>\n",
       "      <th>Balance</th>\n",
       "      <th>NumOfProducts</th>\n",
       "      <th>HasCrCard</th>\n",
       "      <th>IsActiveMember</th>\n",
       "      <th>EstimatedSalary</th>\n",
       "      <th>Geography_France</th>\n",
       "      <th>Geography_Germany</th>\n",
       "      <th>Geography_Spain</th>\n",
       "      <th>Gender_Female</th>\n",
       "      <th>Gender_Male</th>\n",
       "    </tr>\n",
       "  </thead>\n",
       "  <tbody>\n",
       "    <tr>\n",
       "      <th>0</th>\n",
       "      <td>619</td>\n",
       "      <td>42</td>\n",
       "      <td>2</td>\n",
       "      <td>0.00</td>\n",
       "      <td>1</td>\n",
       "      <td>1</td>\n",
       "      <td>1</td>\n",
       "      <td>101348.88</td>\n",
       "      <td>1</td>\n",
       "      <td>0</td>\n",
       "      <td>0</td>\n",
       "      <td>1</td>\n",
       "      <td>0</td>\n",
       "    </tr>\n",
       "    <tr>\n",
       "      <th>1</th>\n",
       "      <td>608</td>\n",
       "      <td>41</td>\n",
       "      <td>1</td>\n",
       "      <td>83807.86</td>\n",
       "      <td>1</td>\n",
       "      <td>0</td>\n",
       "      <td>1</td>\n",
       "      <td>112542.58</td>\n",
       "      <td>0</td>\n",
       "      <td>0</td>\n",
       "      <td>1</td>\n",
       "      <td>1</td>\n",
       "      <td>0</td>\n",
       "    </tr>\n",
       "    <tr>\n",
       "      <th>2</th>\n",
       "      <td>502</td>\n",
       "      <td>42</td>\n",
       "      <td>8</td>\n",
       "      <td>159660.80</td>\n",
       "      <td>3</td>\n",
       "      <td>1</td>\n",
       "      <td>0</td>\n",
       "      <td>113931.57</td>\n",
       "      <td>1</td>\n",
       "      <td>0</td>\n",
       "      <td>0</td>\n",
       "      <td>1</td>\n",
       "      <td>0</td>\n",
       "    </tr>\n",
       "    <tr>\n",
       "      <th>3</th>\n",
       "      <td>699</td>\n",
       "      <td>39</td>\n",
       "      <td>1</td>\n",
       "      <td>0.00</td>\n",
       "      <td>2</td>\n",
       "      <td>0</td>\n",
       "      <td>0</td>\n",
       "      <td>93826.63</td>\n",
       "      <td>1</td>\n",
       "      <td>0</td>\n",
       "      <td>0</td>\n",
       "      <td>1</td>\n",
       "      <td>0</td>\n",
       "    </tr>\n",
       "    <tr>\n",
       "      <th>4</th>\n",
       "      <td>850</td>\n",
       "      <td>43</td>\n",
       "      <td>2</td>\n",
       "      <td>125510.82</td>\n",
       "      <td>1</td>\n",
       "      <td>1</td>\n",
       "      <td>1</td>\n",
       "      <td>79084.10</td>\n",
       "      <td>0</td>\n",
       "      <td>0</td>\n",
       "      <td>1</td>\n",
       "      <td>1</td>\n",
       "      <td>0</td>\n",
       "    </tr>\n",
       "  </tbody>\n",
       "</table>\n",
       "</div>"
      ],
      "text/plain": [
       "   CreditScore  Age  Tenure  ...  Geography_Spain  Gender_Female  Gender_Male\n",
       "0          619   42       2  ...                0              1            0\n",
       "1          608   41       1  ...                1              1            0\n",
       "2          502   42       8  ...                0              1            0\n",
       "3          699   39       1  ...                0              1            0\n",
       "4          850   43       2  ...                1              1            0\n",
       "\n",
       "[5 rows x 13 columns]"
      ]
     },
     "execution_count": 8,
     "metadata": {},
     "output_type": "execute_result"
    }
   ],
   "source": [
    "X.head()"
   ]
  },
  {
   "cell_type": "code",
   "execution_count": 11,
   "metadata": {
    "id": "gvdPB30xhoBo"
   },
   "outputs": [],
   "source": [
    "y = df[\"Exited\"].astype('float')"
   ]
  },
  {
   "cell_type": "code",
   "execution_count": 12,
   "metadata": {
    "colab": {
     "base_uri": "https://localhost:8080/",
     "height": 0
    },
    "id": "Pncs3n4Ch876",
    "outputId": "7e509446-b819-481b-d36a-110aec3b61f4"
   },
   "outputs": [
    {
     "data": {
      "text/plain": [
       "0    1.0\n",
       "1    0.0\n",
       "2    1.0\n",
       "3    0.0\n",
       "4    0.0\n",
       "Name: Exited, dtype: float64"
      ]
     },
     "execution_count": 12,
     "metadata": {},
     "output_type": "execute_result"
    }
   ],
   "source": [
    "y.head()"
   ]
  },
  {
   "cell_type": "markdown",
   "metadata": {
    "id": "Hea3c3v7inSq"
   },
   "source": [
    "Train-Test Split"
   ]
  },
  {
   "cell_type": "code",
   "execution_count": 13,
   "metadata": {
    "id": "mWEknJ4KimbC"
   },
   "outputs": [],
   "source": [
    "from sklearn.model_selection import train_test_split\n",
    "\n",
    "X_train, X_test, y_train, y_test = train_test_split(X, y, test_size = 0.01, random_state = 1, stratify=y)\n"
   ]
  },
  {
   "cell_type": "code",
   "execution_count": 14,
   "metadata": {
    "colab": {
     "base_uri": "https://localhost:8080/",
     "height": 437
    },
    "id": "OEu0ZfQ1pSWt",
    "outputId": "e90213fe-324d-456c-cb0e-36bc7b427408"
   },
   "outputs": [
    {
     "data": {
      "text/html": [
       "<div>\n",
       "<style scoped>\n",
       "    .dataframe tbody tr th:only-of-type {\n",
       "        vertical-align: middle;\n",
       "    }\n",
       "\n",
       "    .dataframe tbody tr th {\n",
       "        vertical-align: top;\n",
       "    }\n",
       "\n",
       "    .dataframe thead th {\n",
       "        text-align: right;\n",
       "    }\n",
       "</style>\n",
       "<table border=\"1\" class=\"dataframe\">\n",
       "  <thead>\n",
       "    <tr style=\"text-align: right;\">\n",
       "      <th></th>\n",
       "      <th>CreditScore</th>\n",
       "      <th>Age</th>\n",
       "      <th>Tenure</th>\n",
       "      <th>Balance</th>\n",
       "      <th>NumOfProducts</th>\n",
       "      <th>HasCrCard</th>\n",
       "      <th>IsActiveMember</th>\n",
       "      <th>EstimatedSalary</th>\n",
       "      <th>Geography_France</th>\n",
       "      <th>Geography_Germany</th>\n",
       "      <th>Geography_Spain</th>\n",
       "      <th>Gender_Female</th>\n",
       "      <th>Gender_Male</th>\n",
       "    </tr>\n",
       "  </thead>\n",
       "  <tbody>\n",
       "    <tr>\n",
       "      <th>861</th>\n",
       "      <td>548</td>\n",
       "      <td>32</td>\n",
       "      <td>2</td>\n",
       "      <td>172448.77</td>\n",
       "      <td>1</td>\n",
       "      <td>1</td>\n",
       "      <td>0</td>\n",
       "      <td>188083.77</td>\n",
       "      <td>1</td>\n",
       "      <td>0</td>\n",
       "      <td>0</td>\n",
       "      <td>1</td>\n",
       "      <td>0</td>\n",
       "    </tr>\n",
       "    <tr>\n",
       "      <th>3285</th>\n",
       "      <td>735</td>\n",
       "      <td>43</td>\n",
       "      <td>9</td>\n",
       "      <td>98807.45</td>\n",
       "      <td>1</td>\n",
       "      <td>0</td>\n",
       "      <td>0</td>\n",
       "      <td>184570.04</td>\n",
       "      <td>0</td>\n",
       "      <td>1</td>\n",
       "      <td>0</td>\n",
       "      <td>1</td>\n",
       "      <td>0</td>\n",
       "    </tr>\n",
       "    <tr>\n",
       "      <th>7532</th>\n",
       "      <td>760</td>\n",
       "      <td>33</td>\n",
       "      <td>1</td>\n",
       "      <td>118114.28</td>\n",
       "      <td>2</td>\n",
       "      <td>0</td>\n",
       "      <td>1</td>\n",
       "      <td>156660.21</td>\n",
       "      <td>0</td>\n",
       "      <td>0</td>\n",
       "      <td>1</td>\n",
       "      <td>1</td>\n",
       "      <td>0</td>\n",
       "    </tr>\n",
       "    <tr>\n",
       "      <th>1845</th>\n",
       "      <td>737</td>\n",
       "      <td>36</td>\n",
       "      <td>9</td>\n",
       "      <td>0.00</td>\n",
       "      <td>1</td>\n",
       "      <td>0</td>\n",
       "      <td>1</td>\n",
       "      <td>188670.90</td>\n",
       "      <td>1</td>\n",
       "      <td>0</td>\n",
       "      <td>0</td>\n",
       "      <td>0</td>\n",
       "      <td>1</td>\n",
       "    </tr>\n",
       "    <tr>\n",
       "      <th>8051</th>\n",
       "      <td>605</td>\n",
       "      <td>56</td>\n",
       "      <td>1</td>\n",
       "      <td>74129.18</td>\n",
       "      <td>2</td>\n",
       "      <td>1</td>\n",
       "      <td>1</td>\n",
       "      <td>62199.78</td>\n",
       "      <td>0</td>\n",
       "      <td>1</td>\n",
       "      <td>0</td>\n",
       "      <td>1</td>\n",
       "      <td>0</td>\n",
       "    </tr>\n",
       "    <tr>\n",
       "      <th>...</th>\n",
       "      <td>...</td>\n",
       "      <td>...</td>\n",
       "      <td>...</td>\n",
       "      <td>...</td>\n",
       "      <td>...</td>\n",
       "      <td>...</td>\n",
       "      <td>...</td>\n",
       "      <td>...</td>\n",
       "      <td>...</td>\n",
       "      <td>...</td>\n",
       "      <td>...</td>\n",
       "      <td>...</td>\n",
       "      <td>...</td>\n",
       "    </tr>\n",
       "    <tr>\n",
       "      <th>6738</th>\n",
       "      <td>573</td>\n",
       "      <td>35</td>\n",
       "      <td>9</td>\n",
       "      <td>134498.54</td>\n",
       "      <td>2</td>\n",
       "      <td>1</td>\n",
       "      <td>1</td>\n",
       "      <td>119924.80</td>\n",
       "      <td>0</td>\n",
       "      <td>1</td>\n",
       "      <td>0</td>\n",
       "      <td>0</td>\n",
       "      <td>1</td>\n",
       "    </tr>\n",
       "    <tr>\n",
       "      <th>6278</th>\n",
       "      <td>602</td>\n",
       "      <td>72</td>\n",
       "      <td>3</td>\n",
       "      <td>0.00</td>\n",
       "      <td>2</td>\n",
       "      <td>1</td>\n",
       "      <td>1</td>\n",
       "      <td>171260.66</td>\n",
       "      <td>1</td>\n",
       "      <td>0</td>\n",
       "      <td>0</td>\n",
       "      <td>1</td>\n",
       "      <td>0</td>\n",
       "    </tr>\n",
       "    <tr>\n",
       "      <th>3361</th>\n",
       "      <td>602</td>\n",
       "      <td>48</td>\n",
       "      <td>7</td>\n",
       "      <td>76595.08</td>\n",
       "      <td>2</td>\n",
       "      <td>0</td>\n",
       "      <td>0</td>\n",
       "      <td>127095.14</td>\n",
       "      <td>0</td>\n",
       "      <td>1</td>\n",
       "      <td>0</td>\n",
       "      <td>1</td>\n",
       "      <td>0</td>\n",
       "    </tr>\n",
       "    <tr>\n",
       "      <th>9357</th>\n",
       "      <td>418</td>\n",
       "      <td>46</td>\n",
       "      <td>9</td>\n",
       "      <td>0.00</td>\n",
       "      <td>1</td>\n",
       "      <td>1</td>\n",
       "      <td>1</td>\n",
       "      <td>81014.50</td>\n",
       "      <td>1</td>\n",
       "      <td>0</td>\n",
       "      <td>0</td>\n",
       "      <td>1</td>\n",
       "      <td>0</td>\n",
       "    </tr>\n",
       "    <tr>\n",
       "      <th>8407</th>\n",
       "      <td>726</td>\n",
       "      <td>28</td>\n",
       "      <td>2</td>\n",
       "      <td>0.00</td>\n",
       "      <td>1</td>\n",
       "      <td>0</td>\n",
       "      <td>0</td>\n",
       "      <td>98060.51</td>\n",
       "      <td>1</td>\n",
       "      <td>0</td>\n",
       "      <td>0</td>\n",
       "      <td>0</td>\n",
       "      <td>1</td>\n",
       "    </tr>\n",
       "  </tbody>\n",
       "</table>\n",
       "<p>9900 rows × 13 columns</p>\n",
       "</div>"
      ],
      "text/plain": [
       "      CreditScore  Age  Tenure  ...  Geography_Spain  Gender_Female  Gender_Male\n",
       "861           548   32       2  ...                0              1            0\n",
       "3285          735   43       9  ...                0              1            0\n",
       "7532          760   33       1  ...                1              1            0\n",
       "1845          737   36       9  ...                0              0            1\n",
       "8051          605   56       1  ...                0              1            0\n",
       "...           ...  ...     ...  ...              ...            ...          ...\n",
       "6738          573   35       9  ...                0              0            1\n",
       "6278          602   72       3  ...                0              1            0\n",
       "3361          602   48       7  ...                0              1            0\n",
       "9357          418   46       9  ...                0              1            0\n",
       "8407          726   28       2  ...                0              0            1\n",
       "\n",
       "[9900 rows x 13 columns]"
      ]
     },
     "execution_count": 14,
     "metadata": {},
     "output_type": "execute_result"
    }
   ],
   "source": [
    "X_train"
   ]
  },
  {
   "cell_type": "code",
   "execution_count": 15,
   "metadata": {
    "id": "SJvtScc177aZ"
   },
   "outputs": [],
   "source": [
    "# Scaling data\n",
    "\n",
    "from sklearn.preprocessing import StandardScaler\n",
    "\n",
    "sc = StandardScaler()\n",
    "X_train = sc.fit_transform(X_train)\n",
    "#X_val = sc.transform(X_val)\n",
    "X_test = sc.transform(X_test)\n",
    "# For final test scale and predict with train scaler"
   ]
  },
  {
   "cell_type": "markdown",
   "metadata": {
    "id": "xVDcswOCtlr3"
   },
   "source": [
    "## Defining model hyperparameters\n",
    "\n",
    "\n"
   ]
  },
  {
   "cell_type": "code",
   "execution_count": 16,
   "metadata": {
    "id": "E14tL1vUuTRV"
   },
   "outputs": [],
   "source": [
    "epochs = 100\n",
    "batch_size = 128"
   ]
  },
  {
   "cell_type": "code",
   "execution_count": 17,
   "metadata": {
    "id": "pVw_r2Mq7ntd"
   },
   "outputs": [],
   "source": [
    "l2_norm_clip = 1.5\n",
    "noise_multiplier = 1.3\n",
    "num_microbatches = 64\n",
    "learning_rate = 0.25\n",
    "\n",
    "if batch_size % num_microbatches != 0:\n",
    "  raise ValueError('Batch size should be an integer multiple of the number of microbatches')"
   ]
  },
  {
   "cell_type": "markdown",
   "metadata": {
    "id": "wXAmHcNOmHc5"
   },
   "source": [
    "## Building our DP ANN\n"
   ]
  },
  {
   "cell_type": "code",
   "execution_count": 38,
   "metadata": {
    "id": "yqLWf7xoOW3Z"
   },
   "outputs": [],
   "source": [
    "import keras\n",
    "from keras.models import Sequential\n",
    "from keras.layers import Dense\n",
    "from keras.layers import Dropout\n",
    "from keras.layers import BatchNormalization\n",
    "callback = keras.callbacks.EarlyStopping(patience=40, restore_best_weights=True)\n",
    "# initializing ann\n",
    "model = Sequential()\n",
    "\n",
    "# adding the first input layer and the first hidden layer\n",
    "model.add(Dense(18, kernel_initializer = 'normal', activation = 'relu', input_shape = (13, )))\n",
    "\n",
    "# adding batch normalization and dropout layer\n",
    "model.add(Dropout(rate = 0.1))\n",
    "model.add(BatchNormalization())\n",
    "\n",
    "# adding the third hidden layer\n",
    "model.add(Dense(14, kernel_initializer = 'normal', activation = 'relu'))\n",
    "\n",
    "# adding batch normalization and dropout layer\n",
    "model.add(Dropout(rate = 0.1))\n",
    "model.add(BatchNormalization())\n",
    "\n",
    "model.add(Dense(10, kernel_initializer = 'normal', activation = 'relu'))\n",
    "\n",
    "# adding batch normalization and dropout layer\n",
    "model.add(Dropout(rate = 0.1))\n",
    "model.add(BatchNormalization())\n",
    "\n",
    "model.add(Dense(6, kernel_initializer = 'normal', activation = 'relu'))\n",
    "\n",
    "# adding batch normalization and dropout layer\n",
    "model.add(Dropout(rate = 0.05))\n",
    "model.add(BatchNormalization())\n",
    "\n",
    "# adding the output layer\n",
    "model.add(Dense(1, kernel_initializer = 'normal', activation = 'sigmoid'))\n"
   ]
  },
  {
   "cell_type": "markdown",
   "metadata": {
    "id": "FT4lByFg-I_r"
   },
   "source": [
    "Define the optimizer and loss function for the learning model. \n",
    "We compute the loss by using a vector of losses per-example, so we can support gradient manipulation over each training point. \n",
    "\n",
    "This is different compared to the standard mean over a minibatch"
   ]
  },
  {
   "cell_type": "code",
   "execution_count": 39,
   "metadata": {
    "id": "bqBvjCf5-ZXy"
   },
   "outputs": [],
   "source": [
    "optimizer = DPKerasSGDOptimizer(\n",
    "    l2_norm_clip=l2_norm_clip,\n",
    "    noise_multiplier=noise_multiplier,\n",
    "    learning_rate=learning_rate)\n",
    "\n",
    "loss = tf.keras.losses.BinaryCrossentropy(reduction=tf.losses.Reduction.NONE)"
   ]
  },
  {
   "cell_type": "markdown",
   "metadata": {
    "id": "LI_3nXzEGmrP"
   },
   "source": [
    "## Compiling and training the DP ANN Model\n"
   ]
  },
  {
   "cell_type": "code",
   "execution_count": 40,
   "metadata": {
    "id": "QCh_WiOtxrRh"
   },
   "outputs": [],
   "source": [
    "import time, datetime #Used for training time"
   ]
  },
  {
   "cell_type": "code",
   "execution_count": 41,
   "metadata": {
    "colab": {
     "base_uri": "https://localhost:8080/",
     "height": 0
    },
    "id": "z4iV03VqG1Bo",
    "outputId": "9249073d-72c0-487e-bfc0-b5cde76a985c"
   },
   "outputs": [
    {
     "name": "stdout",
     "output_type": "stream",
     "text": [
      "Epoch 1/100\n",
      "70/70 [==============================] - 9s 43ms/step - loss: 0.5793 - accuracy: 0.7175 - val_loss: 0.5234 - val_accuracy: 0.7889\n",
      "Epoch 2/100\n",
      "70/70 [==============================] - 3s 41ms/step - loss: 0.5791 - accuracy: 0.7744 - val_loss: 0.5408 - val_accuracy: 0.7889\n",
      "Epoch 3/100\n",
      "70/70 [==============================] - 3s 40ms/step - loss: 0.6255 - accuracy: 0.8067 - val_loss: 0.6497 - val_accuracy: 0.7889\n",
      "Epoch 4/100\n",
      "70/70 [==============================] - 3s 40ms/step - loss: 0.6387 - accuracy: 0.8159 - val_loss: 0.6442 - val_accuracy: 0.7970\n",
      "Epoch 5/100\n",
      "70/70 [==============================] - 3s 42ms/step - loss: 0.6523 - accuracy: 0.8263 - val_loss: 0.5962 - val_accuracy: 0.8222\n",
      "Epoch 6/100\n",
      "70/70 [==============================] - 3s 42ms/step - loss: 0.6116 - accuracy: 0.8354 - val_loss: 0.6108 - val_accuracy: 0.8131\n",
      "Epoch 7/100\n",
      "70/70 [==============================] - 3s 43ms/step - loss: 0.6283 - accuracy: 0.8370 - val_loss: 0.5989 - val_accuracy: 0.8232\n",
      "Epoch 8/100\n",
      "70/70 [==============================] - 3s 42ms/step - loss: 0.6364 - accuracy: 0.8319 - val_loss: 0.5954 - val_accuracy: 0.8323\n",
      "Epoch 9/100\n",
      "70/70 [==============================] - 3s 40ms/step - loss: 0.6081 - accuracy: 0.8339 - val_loss: 0.6032 - val_accuracy: 0.8384\n",
      "Epoch 10/100\n",
      "70/70 [==============================] - 3s 42ms/step - loss: 0.6150 - accuracy: 0.8350 - val_loss: 0.5809 - val_accuracy: 0.8535\n",
      "Epoch 11/100\n",
      "70/70 [==============================] - 3s 39ms/step - loss: 0.5958 - accuracy: 0.8371 - val_loss: 0.5453 - val_accuracy: 0.8586\n",
      "Epoch 12/100\n",
      "70/70 [==============================] - 3s 40ms/step - loss: 0.6113 - accuracy: 0.8358 - val_loss: 0.5452 - val_accuracy: 0.8626\n",
      "Epoch 13/100\n",
      "70/70 [==============================] - 3s 39ms/step - loss: 0.5906 - accuracy: 0.8394 - val_loss: 0.5422 - val_accuracy: 0.8596\n",
      "Epoch 14/100\n",
      "70/70 [==============================] - 3s 40ms/step - loss: 0.5758 - accuracy: 0.8396 - val_loss: 0.5173 - val_accuracy: 0.8545\n",
      "Epoch 15/100\n",
      "70/70 [==============================] - 3s 41ms/step - loss: 0.5610 - accuracy: 0.8419 - val_loss: 0.5145 - val_accuracy: 0.8535\n",
      "Epoch 16/100\n",
      "70/70 [==============================] - 3s 42ms/step - loss: 0.5664 - accuracy: 0.8430 - val_loss: 0.5133 - val_accuracy: 0.8545\n",
      "Epoch 17/100\n",
      "70/70 [==============================] - 3s 40ms/step - loss: 0.5808 - accuracy: 0.8394 - val_loss: 0.5276 - val_accuracy: 0.8535\n",
      "Epoch 18/100\n",
      "70/70 [==============================] - 3s 42ms/step - loss: 0.5621 - accuracy: 0.8432 - val_loss: 0.5244 - val_accuracy: 0.8545\n",
      "Epoch 19/100\n",
      "70/70 [==============================] - 3s 45ms/step - loss: 0.5578 - accuracy: 0.8418 - val_loss: 0.5370 - val_accuracy: 0.8444\n",
      "Epoch 20/100\n",
      "70/70 [==============================] - 3s 40ms/step - loss: 0.5664 - accuracy: 0.8415 - val_loss: 0.5271 - val_accuracy: 0.8566\n",
      "Epoch 21/100\n",
      "70/70 [==============================] - 3s 47ms/step - loss: 0.5499 - accuracy: 0.8424 - val_loss: 0.5272 - val_accuracy: 0.8515\n",
      "Epoch 22/100\n",
      "70/70 [==============================] - 3s 39ms/step - loss: 0.5699 - accuracy: 0.8410 - val_loss: 0.5228 - val_accuracy: 0.8495\n",
      "Epoch 23/100\n",
      "70/70 [==============================] - 3s 40ms/step - loss: 0.5598 - accuracy: 0.8394 - val_loss: 0.4907 - val_accuracy: 0.8556\n",
      "Epoch 24/100\n",
      "70/70 [==============================] - 3s 42ms/step - loss: 0.5793 - accuracy: 0.8433 - val_loss: 0.5053 - val_accuracy: 0.8576\n",
      "Epoch 25/100\n",
      "70/70 [==============================] - 3s 43ms/step - loss: 0.5459 - accuracy: 0.8434 - val_loss: 0.4897 - val_accuracy: 0.8576\n",
      "Epoch 26/100\n",
      "70/70 [==============================] - 3s 40ms/step - loss: 0.5464 - accuracy: 0.8410 - val_loss: 0.5060 - val_accuracy: 0.8606\n",
      "Epoch 27/100\n",
      "70/70 [==============================] - 3s 40ms/step - loss: 0.5470 - accuracy: 0.8452 - val_loss: 0.5003 - val_accuracy: 0.8606\n",
      "Epoch 28/100\n",
      "70/70 [==============================] - 3s 44ms/step - loss: 0.5599 - accuracy: 0.8438 - val_loss: 0.5328 - val_accuracy: 0.8626\n",
      "Epoch 29/100\n",
      "70/70 [==============================] - 3s 40ms/step - loss: 0.5598 - accuracy: 0.8439 - val_loss: 0.4977 - val_accuracy: 0.8616\n",
      "Epoch 30/100\n",
      "70/70 [==============================] - 3s 40ms/step - loss: 0.5441 - accuracy: 0.8424 - val_loss: 0.5146 - val_accuracy: 0.8566\n",
      "Epoch 31/100\n",
      "70/70 [==============================] - 3s 42ms/step - loss: 0.5488 - accuracy: 0.8450 - val_loss: 0.5268 - val_accuracy: 0.8545\n",
      "Epoch 32/100\n",
      "70/70 [==============================] - 3s 42ms/step - loss: 0.5330 - accuracy: 0.8450 - val_loss: 0.4985 - val_accuracy: 0.8475\n",
      "Epoch 33/100\n",
      "70/70 [==============================] - 3s 40ms/step - loss: 0.5528 - accuracy: 0.8484 - val_loss: 0.5263 - val_accuracy: 0.8515\n",
      "Epoch 34/100\n",
      "70/70 [==============================] - 3s 39ms/step - loss: 0.5539 - accuracy: 0.8451 - val_loss: 0.5138 - val_accuracy: 0.8545\n",
      "Epoch 35/100\n",
      "70/70 [==============================] - 3s 40ms/step - loss: 0.5458 - accuracy: 0.8434 - val_loss: 0.4919 - val_accuracy: 0.8545\n",
      "Epoch 36/100\n",
      "70/70 [==============================] - 3s 43ms/step - loss: 0.5305 - accuracy: 0.8460 - val_loss: 0.5049 - val_accuracy: 0.8545\n",
      "Epoch 37/100\n",
      "70/70 [==============================] - 3s 43ms/step - loss: 0.5318 - accuracy: 0.8475 - val_loss: 0.5193 - val_accuracy: 0.8596\n",
      "Epoch 38/100\n",
      "70/70 [==============================] - 3s 41ms/step - loss: 0.5344 - accuracy: 0.8495 - val_loss: 0.5173 - val_accuracy: 0.8576\n",
      "Epoch 39/100\n",
      "70/70 [==============================] - 3s 39ms/step - loss: 0.5437 - accuracy: 0.8458 - val_loss: 0.4970 - val_accuracy: 0.8556\n",
      "Epoch 40/100\n",
      "70/70 [==============================] - 3s 39ms/step - loss: 0.5547 - accuracy: 0.8469 - val_loss: 0.5531 - val_accuracy: 0.8515\n",
      "Epoch 41/100\n",
      "70/70 [==============================] - 3s 39ms/step - loss: 0.5566 - accuracy: 0.8466 - val_loss: 0.5041 - val_accuracy: 0.8535\n",
      "Epoch 42/100\n",
      "70/70 [==============================] - 3s 42ms/step - loss: 0.5656 - accuracy: 0.8483 - val_loss: 0.5244 - val_accuracy: 0.8566\n",
      "Epoch 43/100\n",
      "70/70 [==============================] - 3s 41ms/step - loss: 0.5440 - accuracy: 0.8484 - val_loss: 0.5213 - val_accuracy: 0.8556\n",
      "Epoch 44/100\n",
      "70/70 [==============================] - 3s 39ms/step - loss: 0.5351 - accuracy: 0.8470 - val_loss: 0.5270 - val_accuracy: 0.8596\n",
      "Epoch 45/100\n",
      "70/70 [==============================] - 3s 42ms/step - loss: 0.5598 - accuracy: 0.8448 - val_loss: 0.5119 - val_accuracy: 0.8556\n",
      "Epoch 46/100\n",
      "70/70 [==============================] - 3s 39ms/step - loss: 0.5468 - accuracy: 0.8452 - val_loss: 0.5149 - val_accuracy: 0.8566\n",
      "Epoch 47/100\n",
      "70/70 [==============================] - 3s 43ms/step - loss: 0.5500 - accuracy: 0.8458 - val_loss: 0.4868 - val_accuracy: 0.8556\n",
      "Epoch 48/100\n",
      "70/70 [==============================] - 3s 42ms/step - loss: 0.5334 - accuracy: 0.8452 - val_loss: 0.5227 - val_accuracy: 0.8515\n",
      "Epoch 49/100\n",
      "70/70 [==============================] - 3s 42ms/step - loss: 0.5486 - accuracy: 0.8459 - val_loss: 0.4995 - val_accuracy: 0.8576\n",
      "Epoch 50/100\n",
      "70/70 [==============================] - 3s 45ms/step - loss: 0.5530 - accuracy: 0.8432 - val_loss: 0.4866 - val_accuracy: 0.8535\n",
      "Epoch 51/100\n",
      "70/70 [==============================] - 3s 42ms/step - loss: 0.5380 - accuracy: 0.8481 - val_loss: 0.4900 - val_accuracy: 0.8535\n",
      "Epoch 52/100\n",
      "70/70 [==============================] - 3s 42ms/step - loss: 0.5264 - accuracy: 0.8484 - val_loss: 0.4906 - val_accuracy: 0.8586\n",
      "Epoch 53/100\n",
      "70/70 [==============================] - 3s 43ms/step - loss: 0.5226 - accuracy: 0.8497 - val_loss: 0.4798 - val_accuracy: 0.8586\n",
      "Epoch 54/100\n",
      "70/70 [==============================] - 3s 41ms/step - loss: 0.5233 - accuracy: 0.8471 - val_loss: 0.4816 - val_accuracy: 0.8626\n",
      "Epoch 55/100\n",
      "70/70 [==============================] - 3s 45ms/step - loss: 0.5140 - accuracy: 0.8487 - val_loss: 0.4900 - val_accuracy: 0.8525\n",
      "Epoch 56/100\n",
      "70/70 [==============================] - 3s 42ms/step - loss: 0.5125 - accuracy: 0.8496 - val_loss: 0.4884 - val_accuracy: 0.8525\n",
      "Epoch 57/100\n",
      "70/70 [==============================] - 3s 42ms/step - loss: 0.5218 - accuracy: 0.8468 - val_loss: 0.5073 - val_accuracy: 0.8444\n",
      "Epoch 58/100\n",
      "70/70 [==============================] - 3s 42ms/step - loss: 0.5100 - accuracy: 0.8475 - val_loss: 0.4847 - val_accuracy: 0.8525\n",
      "Epoch 59/100\n",
      "70/70 [==============================] - 3s 41ms/step - loss: 0.5094 - accuracy: 0.8485 - val_loss: 0.4900 - val_accuracy: 0.8545\n",
      "Epoch 60/100\n",
      "70/70 [==============================] - 3s 43ms/step - loss: 0.5247 - accuracy: 0.8480 - val_loss: 0.4705 - val_accuracy: 0.8545\n",
      "Epoch 61/100\n",
      "70/70 [==============================] - 3s 42ms/step - loss: 0.5029 - accuracy: 0.8486 - val_loss: 0.4728 - val_accuracy: 0.8495\n",
      "Epoch 62/100\n",
      "70/70 [==============================] - 3s 41ms/step - loss: 0.5060 - accuracy: 0.8495 - val_loss: 0.4741 - val_accuracy: 0.8576\n",
      "Epoch 63/100\n",
      "70/70 [==============================] - 3s 41ms/step - loss: 0.5120 - accuracy: 0.8475 - val_loss: 0.4643 - val_accuracy: 0.8525\n",
      "Epoch 64/100\n",
      "70/70 [==============================] - 3s 42ms/step - loss: 0.5101 - accuracy: 0.8467 - val_loss: 0.4579 - val_accuracy: 0.8586\n",
      "Epoch 65/100\n",
      "70/70 [==============================] - 3s 41ms/step - loss: 0.4963 - accuracy: 0.8452 - val_loss: 0.4660 - val_accuracy: 0.8576\n",
      "Epoch 66/100\n",
      "70/70 [==============================] - 3s 41ms/step - loss: 0.5025 - accuracy: 0.8495 - val_loss: 0.4679 - val_accuracy: 0.8556\n",
      "Epoch 67/100\n",
      "70/70 [==============================] - 3s 46ms/step - loss: 0.5233 - accuracy: 0.8465 - val_loss: 0.4603 - val_accuracy: 0.8576\n",
      "Epoch 68/100\n",
      "70/70 [==============================] - 3s 43ms/step - loss: 0.5035 - accuracy: 0.8512 - val_loss: 0.4539 - val_accuracy: 0.8545\n",
      "Epoch 69/100\n",
      "70/70 [==============================] - 3s 44ms/step - loss: 0.5014 - accuracy: 0.8502 - val_loss: 0.4725 - val_accuracy: 0.8616\n",
      "Epoch 70/100\n",
      "70/70 [==============================] - 3s 43ms/step - loss: 0.5107 - accuracy: 0.8493 - val_loss: 0.4467 - val_accuracy: 0.8515\n",
      "Epoch 71/100\n",
      "70/70 [==============================] - 3s 42ms/step - loss: 0.5195 - accuracy: 0.8470 - val_loss: 0.4552 - val_accuracy: 0.8545\n",
      "Epoch 72/100\n",
      "70/70 [==============================] - 3s 44ms/step - loss: 0.5046 - accuracy: 0.8523 - val_loss: 0.4466 - val_accuracy: 0.8576\n",
      "Epoch 73/100\n",
      "70/70 [==============================] - 3s 42ms/step - loss: 0.5125 - accuracy: 0.8490 - val_loss: 0.4593 - val_accuracy: 0.8596\n",
      "Epoch 74/100\n",
      "70/70 [==============================] - 3s 41ms/step - loss: 0.5162 - accuracy: 0.8508 - val_loss: 0.4566 - val_accuracy: 0.8535\n",
      "Epoch 75/100\n",
      "70/70 [==============================] - 3s 43ms/step - loss: 0.5097 - accuracy: 0.8495 - val_loss: 0.4677 - val_accuracy: 0.8535\n",
      "Epoch 76/100\n",
      "70/70 [==============================] - 3s 42ms/step - loss: 0.5219 - accuracy: 0.8490 - val_loss: 0.4824 - val_accuracy: 0.8535\n",
      "Epoch 77/100\n",
      "70/70 [==============================] - 3s 40ms/step - loss: 0.5261 - accuracy: 0.8504 - val_loss: 0.4907 - val_accuracy: 0.8515\n",
      "Epoch 78/100\n",
      "70/70 [==============================] - 3s 43ms/step - loss: 0.5222 - accuracy: 0.8480 - val_loss: 0.4833 - val_accuracy: 0.8515\n",
      "Epoch 79/100\n",
      "70/70 [==============================] - 3s 41ms/step - loss: 0.5370 - accuracy: 0.8479 - val_loss: 0.4846 - val_accuracy: 0.8505\n",
      "Epoch 80/100\n",
      "70/70 [==============================] - 3s 43ms/step - loss: 0.5196 - accuracy: 0.8481 - val_loss: 0.4818 - val_accuracy: 0.8525\n",
      "Epoch 81/100\n",
      "70/70 [==============================] - 3s 43ms/step - loss: 0.5255 - accuracy: 0.8486 - val_loss: 0.5010 - val_accuracy: 0.8566\n",
      "Epoch 82/100\n",
      "70/70 [==============================] - 3s 41ms/step - loss: 0.5354 - accuracy: 0.8510 - val_loss: 0.4928 - val_accuracy: 0.8515\n",
      "Epoch 83/100\n",
      "70/70 [==============================] - 3s 41ms/step - loss: 0.5537 - accuracy: 0.8458 - val_loss: 0.4865 - val_accuracy: 0.8545\n",
      "Epoch 84/100\n",
      "70/70 [==============================] - 3s 42ms/step - loss: 0.5374 - accuracy: 0.8495 - val_loss: 0.4888 - val_accuracy: 0.8576\n",
      "Epoch 85/100\n",
      "70/70 [==============================] - 3s 41ms/step - loss: 0.5197 - accuracy: 0.8513 - val_loss: 0.4780 - val_accuracy: 0.8576\n",
      "Epoch 86/100\n",
      "70/70 [==============================] - 3s 41ms/step - loss: 0.5447 - accuracy: 0.8496 - val_loss: 0.4818 - val_accuracy: 0.8556\n",
      "Epoch 87/100\n",
      "70/70 [==============================] - 3s 40ms/step - loss: 0.5150 - accuracy: 0.8503 - val_loss: 0.4696 - val_accuracy: 0.8576\n",
      "Epoch 88/100\n",
      "70/70 [==============================] - 3s 43ms/step - loss: 0.5426 - accuracy: 0.8468 - val_loss: 0.5198 - val_accuracy: 0.8535\n",
      "Epoch 89/100\n",
      "70/70 [==============================] - 3s 43ms/step - loss: 0.5196 - accuracy: 0.8516 - val_loss: 0.4827 - val_accuracy: 0.8616\n",
      "Epoch 90/100\n",
      "70/70 [==============================] - 3s 41ms/step - loss: 0.5139 - accuracy: 0.8499 - val_loss: 0.4725 - val_accuracy: 0.8586\n",
      "Epoch 91/100\n",
      "70/70 [==============================] - 3s 43ms/step - loss: 0.5186 - accuracy: 0.8520 - val_loss: 0.4542 - val_accuracy: 0.8545\n",
      "Epoch 92/100\n",
      "70/70 [==============================] - 3s 41ms/step - loss: 0.5292 - accuracy: 0.8488 - val_loss: 0.4747 - val_accuracy: 0.8535\n",
      "Epoch 93/100\n",
      "70/70 [==============================] - 3s 43ms/step - loss: 0.5259 - accuracy: 0.8511 - val_loss: 0.4748 - val_accuracy: 0.8535\n",
      "Epoch 94/100\n",
      "70/70 [==============================] - 3s 39ms/step - loss: 0.5192 - accuracy: 0.8505 - val_loss: 0.4885 - val_accuracy: 0.8556\n",
      "Epoch 95/100\n",
      "70/70 [==============================] - 3s 42ms/step - loss: 0.5375 - accuracy: 0.8504 - val_loss: 0.4806 - val_accuracy: 0.8596\n",
      "Epoch 96/100\n",
      "70/70 [==============================] - 3s 42ms/step - loss: 0.5123 - accuracy: 0.8523 - val_loss: 0.4678 - val_accuracy: 0.8515\n",
      "Epoch 97/100\n",
      "70/70 [==============================] - 3s 45ms/step - loss: 0.5086 - accuracy: 0.8527 - val_loss: 0.4483 - val_accuracy: 0.8576\n",
      "Epoch 98/100\n",
      "70/70 [==============================] - 3s 45ms/step - loss: 0.5042 - accuracy: 0.8540 - val_loss: 0.4526 - val_accuracy: 0.8556\n",
      "Epoch 99/100\n",
      "70/70 [==============================] - 3s 41ms/step - loss: 0.5133 - accuracy: 0.8495 - val_loss: 0.4442 - val_accuracy: 0.8576\n",
      "Epoch 100/100\n",
      "70/70 [==============================] - 3s 42ms/step - loss: 0.4935 - accuracy: 0.8521 - val_loss: 0.4405 - val_accuracy: 0.8556\n",
      "Overall Training Time:  0:05:27.995714\n"
     ]
    }
   ],
   "source": [
    "model.compile(optimizer=optimizer, loss = loss, metrics=['accuracy'])\n",
    "\n",
    "\n",
    "start = datetime.datetime.now()\n",
    "model_history = model.fit(X_train, y_train,\n",
    "          epochs=epochs,\n",
    "          validation_split=0.1,\n",
    "          batch_size = batch_size, callbacks = [callback])\n",
    "end = datetime.datetime.now()\n",
    "print(\"Overall Training Time: \", (end - start))"
   ]
  },
  {
   "cell_type": "code",
   "execution_count": 21,
   "metadata": {
    "colab": {
     "base_uri": "https://localhost:8080/",
     "height": 0
    },
    "id": "Y8NFMPzx5V-i",
    "outputId": "bbc645fe-2db2-48a9-f17a-3002ba13293d"
   },
   "outputs": [
    {
     "name": "stdout",
     "output_type": "stream",
     "text": [
      "4/4 [==============================] - 0s 3ms/step - loss: 0.3476 - accuracy: 0.9000\n",
      "Accuracy of model is 0.8999999761581421\n"
     ]
    }
   ],
   "source": [
    "acc = model.evaluate(X_test, y_test)[1]\n",
    "\n",
    "print(f'Accuracy of model is {acc}')"
   ]
  },
  {
   "cell_type": "code",
   "execution_count": 22,
   "metadata": {
    "id": "uxFyJTD1hM0O"
   },
   "outputs": [],
   "source": [
    "threshold = 0.5\n",
    "y_prob = model.predict(X_test)\n",
    "y_pred = np.where(y_prob >= threshold, 1,0)"
   ]
  },
  {
   "cell_type": "code",
   "execution_count": 28,
   "metadata": {
    "id": "TtK9AC5ShQnq"
   },
   "outputs": [],
   "source": [
    " from sklearn.metrics import confusion_matrix\n",
    " from sklearn.metrics import precision_recall_fscore_support\n",
    " import matplotlib.pyplot as plt\n",
    " import seaborn as sns"
   ]
  },
  {
   "cell_type": "code",
   "execution_count": 29,
   "metadata": {
    "colab": {
     "base_uri": "https://localhost:8080/",
     "height": 409
    },
    "id": "QhCtQdF9hR_u",
    "outputId": "c4285e2b-44d7-4a4a-fbbf-1cff8df9f799"
   },
   "outputs": [
    {
     "data": {
      "text/plain": [
       "Text(0.5, 1.0, 'Churn Modelling Confusion Matrix')"
      ]
     },
     "execution_count": 29,
     "metadata": {},
     "output_type": "execute_result"
    },
    {
     "data": {
      "image/png": "[encoded data removed]",
      "text/plain": [
       "<Figure size 1296x432 with 2 Axes>"
      ]
     },
     "metadata": {
      "needs_background": "light"
     },
     "output_type": "display_data"
    }
   ],
   "source": [
    "# Confusion Matrix for Basic Logistic Regression Model\n",
    "conf_Log = confusion_matrix(y_test, y_pred)\n",
    "fig, axes = plt.subplots(figsize=(18,6))\n",
    "\n",
    "new_conf = pd.DataFrame(conf_Log, index = ['Label 0','Label 1'],columns = ['Predicted 0','Predicted 1'])\n",
    "\n",
    "\n",
    "sns.set(font_scale=1.3)\n",
    "sns.heatmap(new_conf.iloc[-1::-1,:], annot=True,fmt= 'g', ax = axes)\n",
    "axes.set_ylim([0,2]);\n",
    "axes.set_title('Churn Modelling Confusion Matrix')"
   ]
  },
  {
   "cell_type": "code",
   "execution_count": 30,
   "metadata": {
    "id": "ZpgoGQhChTrk"
   },
   "outputs": [],
   "source": [
    "# Precision: Whenever Model Predicts True, how many times it is actually true\n",
    "# Recall: Out of all True, how many did the Model find out\n",
    "\n",
    "# Precision:   True Positives/(True Positives + False Positives)\n",
    "# Recall:   True Positives/(True Positives + False Negatives)\n",
    "\n",
    "TP = conf_Log[1][1] \n",
    "FP = conf_Log[0][1]\n",
    "TN = conf_Log[0][0]\n",
    "FN = conf_Log[1][0]"
   ]
  },
  {
   "cell_type": "code",
   "execution_count": 31,
   "metadata": {
    "colab": {
     "base_uri": "https://localhost:8080/",
     "height": 0
    },
    "id": "EfsemTzKhV-V",
    "outputId": "349dd2ee-b124-43c4-fdcc-6c470be31964"
   },
   "outputs": [
    {
     "name": "stdout",
     "output_type": "stream",
     "text": [
      "Precision is: 0.8571428571428571\n"
     ]
    }
   ],
   "source": [
    "Precision_Metric = TP/(TP + FP)\n",
    "print(\"Precision is:\", Precision_Metric)"
   ]
  },
  {
   "cell_type": "code",
   "execution_count": 32,
   "metadata": {
    "colab": {
     "base_uri": "https://localhost:8080/",
     "height": 0
    },
    "id": "3rsfwdV0hXaQ",
    "outputId": "fa9811b3-fcb1-4723-d19b-1808095f98c0"
   },
   "outputs": [
    {
     "name": "stdout",
     "output_type": "stream",
     "text": [
      "Recall is: 0.6\n"
     ]
    }
   ],
   "source": [
    "Recall_Metric = TP/(TP + FN)\n",
    "print(\"Recall is:\", Recall_Metric)"
   ]
  },
  {
   "cell_type": "code",
   "execution_count": 33,
   "metadata": {
    "colab": {
     "base_uri": "https://localhost:8080/",
     "height": 0
    },
    "id": "Q3rmEFV2hY4F",
    "outputId": "e7a31f33-8f5a-4e00-bed3-f80adc61cf96"
   },
   "outputs": [
    {
     "name": "stdout",
     "output_type": "stream",
     "text": [
      "F1 Score is: 0.7058823529411764\n"
     ]
    }
   ],
   "source": [
    "F1_Metric = (2*Precision_Metric*Recall_Metric)/(Precision_Metric + Recall_Metric)\n",
    "print(\"F1 Score is:\", F1_Metric)"
   ]
  },
  {
   "cell_type": "code",
   "execution_count": 34,
   "metadata": {
    "id": "6kPrHdDEi9Vr"
   },
   "outputs": [],
   "source": [
    "model.save_weights(\"Model_DP_ANN_Tensorflow_Privacy.h5\")"
   ]
  },
  {
   "cell_type": "code",
   "execution_count": 48,
   "metadata": {
    "colab": {
     "base_uri": "https://localhost:8080/",
     "height": 0
    },
    "id": "ws8-nVuVDgtJ",
    "outputId": "d6e8f9dd-3169-462f-824f-97f11e1b6b9e"
   },
   "outputs": [
    {
     "name": "stdout",
     "output_type": "stream",
     "text": [
      "DP-SGD with sampling rate = 1.29% and noise_multiplier = 1.3 iterated over 2321 steps satisfies differential privacy with eps = 2.58 and delta = 1e-05.\n",
      "The optimal RDP order is 8.0.\n"
     ]
    },
    {
     "data": {
      "text/plain": [
       "(2.5776593476915757, 8.0)"
      ]
     },
     "execution_count": 48,
     "metadata": {},
     "output_type": "execute_result"
    }
   ],
   "source": [
    "compute_dp_sgd_privacy.compute_dp_sgd_privacy(n=9900, batch_size=128, noise_multiplier=1.3, epochs=30, delta=1e-5)"
   ]
  },
  {
   "cell_type": "code",
   "execution_count": 47,
   "metadata": {
    "colab": {
     "base_uri": "https://localhost:8080/",
     "height": 0
    },
    "id": "mdvBIPQ-MbxZ",
    "outputId": "b35154d9-fcf0-4ec2-980c-c3639cb5ec17"
   },
   "outputs": [
    {
     "name": "stdout",
     "output_type": "stream",
     "text": [
      "DP-SGD with sampling rate = 1.29% and noise_multiplier = 1.3 iterated over 7735 steps satisfies differential privacy with eps = 4.97 and delta = 1e-05.\n",
      "The optimal RDP order is 5.0.\n"
     ]
    },
    {
     "data": {
      "text/plain": [
       "(4.968762552641338, 5.0)"
      ]
     },
     "execution_count": 47,
     "metadata": {},
     "output_type": "execute_result"
    }
   ],
   "source": [
    "compute_dp_sgd_privacy.compute_dp_sgd_privacy(n=9900, batch_size=128, noise_multiplier=1.3, epochs=100, delta=1e-5)"
   ]
  }
 ],
 "metadata": {
  "colab": {
   "collapsed_sections": [],
   "name": "EAD_Diff_Privacy.ipynb",
   "provenance": []
  },
  "kernelspec": {
   "display_name": "Python 3",
   "language": "python",
   "name": "python3"
  },
  "language_info": {
   "codemirror_mode": {
    "name": "ipython",
    "version": 3
   },
   "file_extension": ".py",
   "mimetype": "text/x-python",
   "name": "python",
   "nbconvert_exporter": "python",
   "pygments_lexer": "ipython3",
   "version": "3.8.8"
  }
 },
 "nbformat": 4,
 "nbformat_minor": 1
}
