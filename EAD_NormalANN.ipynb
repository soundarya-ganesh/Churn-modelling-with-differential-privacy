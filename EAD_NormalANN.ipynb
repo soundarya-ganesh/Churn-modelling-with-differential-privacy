{
  "nbformat": 4,
  "nbformat_minor": 5,
  "metadata": {
    "kernelspec": {
      "display_name": "Python 3",
      "language": "python",
      "name": "python3"
    },
    "language_info": {
      "codemirror_mode": {
        "name": "ipython",
        "version": 3
      },
      "file_extension": ".py",
      "mimetype": "text/x-python",
      "name": "python",
      "nbconvert_exporter": "python",
      "pygments_lexer": "ipython3",
      "version": "3.8.8"
    },
    "papermill": {
      "default_parameters": {},
      "duration": 71.236377,
      "end_time": "2021-07-01T16:15:37.266441",
      "environment_variables": {},
      "exception": null,
      "input_path": "__notebook__.ipynb",
      "output_path": "__notebook__.ipynb",
      "parameters": {},
      "start_time": "2021-07-01T16:14:26.030064",
      "version": "2.3.3"
    },
    "colab": {
      "name": "EAD Project.ipynb",
      "provenance": [],
      "collapsed_sections": []
    }
  },
  "cells": [
    {
      "cell_type": "markdown",
      "metadata": {
        "id": "Z_xpJdzDdYCW"
      },
      "source": [
        "# Implementing a Standard ANN with the Churn Modelling Dataset"
      ],
      "id": "Z_xpJdzDdYCW"
    },
    {
      "cell_type": "markdown",
      "metadata": {
        "id": "QNIqJQ31dcP4"
      },
      "source": [
        "Importing Libraries"
      ],
      "id": "QNIqJQ31dcP4"
    },
    {
      "cell_type": "code",
      "metadata": {
        "execution": {
          "iopub.execute_input": "2021-07-01T16:14:35.671297Z",
          "iopub.status.busy": "2021-07-01T16:14:35.670104Z",
          "iopub.status.idle": "2021-07-01T16:14:36.620795Z",
          "shell.execute_reply": "2021-07-01T16:14:36.621379Z",
          "shell.execute_reply.started": "2021-05-20T18:51:08.041044Z"
        },
        "papermill": {
          "duration": 0.976833,
          "end_time": "2021-07-01T16:14:36.621859",
          "exception": false,
          "start_time": "2021-07-01T16:14:35.645026",
          "status": "completed"
        },
        "tags": [],
        "id": "mathematical-farming"
      },
      "source": [
        "# necessary imports \n",
        "\n",
        "import pandas as pd\n",
        "import numpy as np\n",
        "import matplotlib.pyplot as plt\n",
        "import seaborn as sns\n",
        "\n",
        "import warnings\n",
        "warnings.filterwarnings('ignore')\n",
        "\n",
        "plt.style.use('fivethirtyeight')\n",
        "%matplotlib inline"
      ],
      "id": "mathematical-farming",
      "execution_count": null,
      "outputs": []
    },
    {
      "cell_type": "code",
      "metadata": {
        "execution": {
          "iopub.execute_input": "2021-07-01T16:14:36.676033Z",
          "iopub.status.busy": "2021-07-01T16:14:36.675271Z",
          "iopub.status.idle": "2021-07-01T16:14:36.784509Z",
          "shell.execute_reply": "2021-07-01T16:14:36.785052Z",
          "shell.execute_reply.started": "2021-05-20T18:51:08.052875Z"
        },
        "papermill": {
          "duration": 0.139125,
          "end_time": "2021-07-01T16:14:36.785271",
          "exception": false,
          "start_time": "2021-07-01T16:14:36.646146",
          "status": "completed"
        },
        "tags": [],
        "colab": {
          "base_uri": "https://localhost:8080/",
          "height": 223
        },
        "id": "identical-supervisor",
        "outputId": "718ff47a-2ec6-4a45-e6b2-9cdfc6098650"
      },
      "source": [
        "df = pd.read_csv('Churn_Modelling.csv')\n",
        "df.head()"
      ],
      "id": "identical-supervisor",
      "execution_count": null,
      "outputs": [
        {
          "output_type": "execute_result",
          "data": {
            "text/html": [
              "<div>\n",
              "<style scoped>\n",
              "    .dataframe tbody tr th:only-of-type {\n",
              "        vertical-align: middle;\n",
              "    }\n",
              "\n",
              "    .dataframe tbody tr th {\n",
              "        vertical-align: top;\n",
              "    }\n",
              "\n",
              "    .dataframe thead th {\n",
              "        text-align: right;\n",
              "    }\n",
              "</style>\n",
              "<table border=\"1\" class=\"dataframe\">\n",
              "  <thead>\n",
              "    <tr style=\"text-align: right;\">\n",
              "      <th></th>\n",
              "      <th>RowNumber</th>\n",
              "      <th>CustomerId</th>\n",
              "      <th>Surname</th>\n",
              "      <th>CreditScore</th>\n",
              "      <th>Geography</th>\n",
              "      <th>Gender</th>\n",
              "      <th>Age</th>\n",
              "      <th>Tenure</th>\n",
              "      <th>Balance</th>\n",
              "      <th>NumOfProducts</th>\n",
              "      <th>HasCrCard</th>\n",
              "      <th>IsActiveMember</th>\n",
              "      <th>EstimatedSalary</th>\n",
              "      <th>Exited</th>\n",
              "    </tr>\n",
              "  </thead>\n",
              "  <tbody>\n",
              "    <tr>\n",
              "      <th>0</th>\n",
              "      <td>1</td>\n",
              "      <td>15634602</td>\n",
              "      <td>Hargrave</td>\n",
              "      <td>619</td>\n",
              "      <td>France</td>\n",
              "      <td>Female</td>\n",
              "      <td>42</td>\n",
              "      <td>2</td>\n",
              "      <td>0.00</td>\n",
              "      <td>1</td>\n",
              "      <td>1</td>\n",
              "      <td>1</td>\n",
              "      <td>101348.88</td>\n",
              "      <td>1</td>\n",
              "    </tr>\n",
              "    <tr>\n",
              "      <th>1</th>\n",
              "      <td>2</td>\n",
              "      <td>15647311</td>\n",
              "      <td>Hill</td>\n",
              "      <td>608</td>\n",
              "      <td>Spain</td>\n",
              "      <td>Female</td>\n",
              "      <td>41</td>\n",
              "      <td>1</td>\n",
              "      <td>83807.86</td>\n",
              "      <td>1</td>\n",
              "      <td>0</td>\n",
              "      <td>1</td>\n",
              "      <td>112542.58</td>\n",
              "      <td>0</td>\n",
              "    </tr>\n",
              "    <tr>\n",
              "      <th>2</th>\n",
              "      <td>3</td>\n",
              "      <td>15619304</td>\n",
              "      <td>Onio</td>\n",
              "      <td>502</td>\n",
              "      <td>France</td>\n",
              "      <td>Female</td>\n",
              "      <td>42</td>\n",
              "      <td>8</td>\n",
              "      <td>159660.80</td>\n",
              "      <td>3</td>\n",
              "      <td>1</td>\n",
              "      <td>0</td>\n",
              "      <td>113931.57</td>\n",
              "      <td>1</td>\n",
              "    </tr>\n",
              "    <tr>\n",
              "      <th>3</th>\n",
              "      <td>4</td>\n",
              "      <td>15701354</td>\n",
              "      <td>Boni</td>\n",
              "      <td>699</td>\n",
              "      <td>France</td>\n",
              "      <td>Female</td>\n",
              "      <td>39</td>\n",
              "      <td>1</td>\n",
              "      <td>0.00</td>\n",
              "      <td>2</td>\n",
              "      <td>0</td>\n",
              "      <td>0</td>\n",
              "      <td>93826.63</td>\n",
              "      <td>0</td>\n",
              "    </tr>\n",
              "    <tr>\n",
              "      <th>4</th>\n",
              "      <td>5</td>\n",
              "      <td>15737888</td>\n",
              "      <td>Mitchell</td>\n",
              "      <td>850</td>\n",
              "      <td>Spain</td>\n",
              "      <td>Female</td>\n",
              "      <td>43</td>\n",
              "      <td>2</td>\n",
              "      <td>125510.82</td>\n",
              "      <td>1</td>\n",
              "      <td>1</td>\n",
              "      <td>1</td>\n",
              "      <td>79084.10</td>\n",
              "      <td>0</td>\n",
              "    </tr>\n",
              "  </tbody>\n",
              "</table>\n",
              "</div>"
            ],
            "text/plain": [
              "   RowNumber  CustomerId   Surname  ...  IsActiveMember EstimatedSalary Exited\n",
              "0          1    15634602  Hargrave  ...               1       101348.88      1\n",
              "1          2    15647311      Hill  ...               1       112542.58      0\n",
              "2          3    15619304      Onio  ...               0       113931.57      1\n",
              "3          4    15701354      Boni  ...               0        93826.63      0\n",
              "4          5    15737888  Mitchell  ...               1        79084.10      0\n",
              "\n",
              "[5 rows x 14 columns]"
            ]
          },
          "metadata": {},
          "execution_count": 166
        }
      ]
    },
    {
      "cell_type": "code",
      "metadata": {
        "execution": {
          "iopub.execute_input": "2021-07-01T16:14:36.844846Z",
          "iopub.status.busy": "2021-07-01T16:14:36.844095Z",
          "iopub.status.idle": "2021-07-01T16:14:36.896250Z",
          "shell.execute_reply": "2021-07-01T16:14:36.895712Z",
          "shell.execute_reply.started": "2021-05-20T18:51:08.100138Z"
        },
        "papermill": {
          "duration": 0.086911,
          "end_time": "2021-07-01T16:14:36.896409",
          "exception": false,
          "start_time": "2021-07-01T16:14:36.809498",
          "status": "completed"
        },
        "tags": [],
        "colab": {
          "base_uri": "https://localhost:8080/",
          "height": 315
        },
        "id": "unknown-malaysia",
        "outputId": "4d22b7ae-094a-47ce-c5c2-9390f6119670"
      },
      "source": [
        "df.describe()"
      ],
      "id": "unknown-malaysia",
      "execution_count": null,
      "outputs": [
        {
          "output_type": "execute_result",
          "data": {
            "text/html": [
              "<div>\n",
              "<style scoped>\n",
              "    .dataframe tbody tr th:only-of-type {\n",
              "        vertical-align: middle;\n",
              "    }\n",
              "\n",
              "    .dataframe tbody tr th {\n",
              "        vertical-align: top;\n",
              "    }\n",
              "\n",
              "    .dataframe thead th {\n",
              "        text-align: right;\n",
              "    }\n",
              "</style>\n",
              "<table border=\"1\" class=\"dataframe\">\n",
              "  <thead>\n",
              "    <tr style=\"text-align: right;\">\n",
              "      <th></th>\n",
              "      <th>RowNumber</th>\n",
              "      <th>CustomerId</th>\n",
              "      <th>CreditScore</th>\n",
              "      <th>Age</th>\n",
              "      <th>Tenure</th>\n",
              "      <th>Balance</th>\n",
              "      <th>NumOfProducts</th>\n",
              "      <th>HasCrCard</th>\n",
              "      <th>IsActiveMember</th>\n",
              "      <th>EstimatedSalary</th>\n",
              "      <th>Exited</th>\n",
              "    </tr>\n",
              "  </thead>\n",
              "  <tbody>\n",
              "    <tr>\n",
              "      <th>count</th>\n",
              "      <td>10000.00000</td>\n",
              "      <td>1.000000e+04</td>\n",
              "      <td>10000.000000</td>\n",
              "      <td>10000.000000</td>\n",
              "      <td>10000.000000</td>\n",
              "      <td>10000.000000</td>\n",
              "      <td>10000.000000</td>\n",
              "      <td>10000.00000</td>\n",
              "      <td>10000.000000</td>\n",
              "      <td>10000.000000</td>\n",
              "      <td>10000.000000</td>\n",
              "    </tr>\n",
              "    <tr>\n",
              "      <th>mean</th>\n",
              "      <td>5000.50000</td>\n",
              "      <td>1.569094e+07</td>\n",
              "      <td>650.528800</td>\n",
              "      <td>38.921800</td>\n",
              "      <td>5.012800</td>\n",
              "      <td>76485.889288</td>\n",
              "      <td>1.530200</td>\n",
              "      <td>0.70550</td>\n",
              "      <td>0.515100</td>\n",
              "      <td>100090.239881</td>\n",
              "      <td>0.203700</td>\n",
              "    </tr>\n",
              "    <tr>\n",
              "      <th>std</th>\n",
              "      <td>2886.89568</td>\n",
              "      <td>7.193619e+04</td>\n",
              "      <td>96.653299</td>\n",
              "      <td>10.487806</td>\n",
              "      <td>2.892174</td>\n",
              "      <td>62397.405202</td>\n",
              "      <td>0.581654</td>\n",
              "      <td>0.45584</td>\n",
              "      <td>0.499797</td>\n",
              "      <td>57510.492818</td>\n",
              "      <td>0.402769</td>\n",
              "    </tr>\n",
              "    <tr>\n",
              "      <th>min</th>\n",
              "      <td>1.00000</td>\n",
              "      <td>1.556570e+07</td>\n",
              "      <td>350.000000</td>\n",
              "      <td>18.000000</td>\n",
              "      <td>0.000000</td>\n",
              "      <td>0.000000</td>\n",
              "      <td>1.000000</td>\n",
              "      <td>0.00000</td>\n",
              "      <td>0.000000</td>\n",
              "      <td>11.580000</td>\n",
              "      <td>0.000000</td>\n",
              "    </tr>\n",
              "    <tr>\n",
              "      <th>25%</th>\n",
              "      <td>2500.75000</td>\n",
              "      <td>1.562853e+07</td>\n",
              "      <td>584.000000</td>\n",
              "      <td>32.000000</td>\n",
              "      <td>3.000000</td>\n",
              "      <td>0.000000</td>\n",
              "      <td>1.000000</td>\n",
              "      <td>0.00000</td>\n",
              "      <td>0.000000</td>\n",
              "      <td>51002.110000</td>\n",
              "      <td>0.000000</td>\n",
              "    </tr>\n",
              "    <tr>\n",
              "      <th>50%</th>\n",
              "      <td>5000.50000</td>\n",
              "      <td>1.569074e+07</td>\n",
              "      <td>652.000000</td>\n",
              "      <td>37.000000</td>\n",
              "      <td>5.000000</td>\n",
              "      <td>97198.540000</td>\n",
              "      <td>1.000000</td>\n",
              "      <td>1.00000</td>\n",
              "      <td>1.000000</td>\n",
              "      <td>100193.915000</td>\n",
              "      <td>0.000000</td>\n",
              "    </tr>\n",
              "    <tr>\n",
              "      <th>75%</th>\n",
              "      <td>7500.25000</td>\n",
              "      <td>1.575323e+07</td>\n",
              "      <td>718.000000</td>\n",
              "      <td>44.000000</td>\n",
              "      <td>7.000000</td>\n",
              "      <td>127644.240000</td>\n",
              "      <td>2.000000</td>\n",
              "      <td>1.00000</td>\n",
              "      <td>1.000000</td>\n",
              "      <td>149388.247500</td>\n",
              "      <td>0.000000</td>\n",
              "    </tr>\n",
              "    <tr>\n",
              "      <th>max</th>\n",
              "      <td>10000.00000</td>\n",
              "      <td>1.581569e+07</td>\n",
              "      <td>850.000000</td>\n",
              "      <td>92.000000</td>\n",
              "      <td>10.000000</td>\n",
              "      <td>250898.090000</td>\n",
              "      <td>4.000000</td>\n",
              "      <td>1.00000</td>\n",
              "      <td>1.000000</td>\n",
              "      <td>199992.480000</td>\n",
              "      <td>1.000000</td>\n",
              "    </tr>\n",
              "  </tbody>\n",
              "</table>\n",
              "</div>"
            ],
            "text/plain": [
              "         RowNumber    CustomerId  ...  EstimatedSalary        Exited\n",
              "count  10000.00000  1.000000e+04  ...     10000.000000  10000.000000\n",
              "mean    5000.50000  1.569094e+07  ...    100090.239881      0.203700\n",
              "std     2886.89568  7.193619e+04  ...     57510.492818      0.402769\n",
              "min        1.00000  1.556570e+07  ...        11.580000      0.000000\n",
              "25%     2500.75000  1.562853e+07  ...     51002.110000      0.000000\n",
              "50%     5000.50000  1.569074e+07  ...    100193.915000      0.000000\n",
              "75%     7500.25000  1.575323e+07  ...    149388.247500      0.000000\n",
              "max    10000.00000  1.581569e+07  ...    199992.480000      1.000000\n",
              "\n",
              "[8 rows x 11 columns]"
            ]
          },
          "metadata": {},
          "execution_count": 167
        }
      ]
    },
    {
      "cell_type": "code",
      "metadata": {
        "execution": {
          "iopub.execute_input": "2021-07-01T16:14:36.953835Z",
          "iopub.status.busy": "2021-07-01T16:14:36.953133Z",
          "iopub.status.idle": "2021-07-01T16:14:36.970514Z",
          "shell.execute_reply": "2021-07-01T16:14:36.969790Z",
          "shell.execute_reply.started": "2021-05-20T18:51:08.149969Z"
        },
        "papermill": {
          "duration": 0.051241,
          "end_time": "2021-07-01T16:14:36.970667",
          "exception": false,
          "start_time": "2021-07-01T16:14:36.919426",
          "status": "completed"
        },
        "tags": [],
        "colab": {
          "base_uri": "https://localhost:8080/"
        },
        "id": "aging-kruger",
        "outputId": "4144a1cf-8b66-4347-b2e7-0fc55845b573"
      },
      "source": [
        "df.info()"
      ],
      "id": "aging-kruger",
      "execution_count": null,
      "outputs": [
        {
          "output_type": "stream",
          "name": "stdout",
          "text": [
            "<class 'pandas.core.frame.DataFrame'>\n",
            "RangeIndex: 10000 entries, 0 to 9999\n",
            "Data columns (total 14 columns):\n",
            " #   Column           Non-Null Count  Dtype  \n",
            "---  ------           --------------  -----  \n",
            " 0   RowNumber        10000 non-null  int64  \n",
            " 1   CustomerId       10000 non-null  int64  \n",
            " 2   Surname          10000 non-null  object \n",
            " 3   CreditScore      10000 non-null  int64  \n",
            " 4   Geography        10000 non-null  object \n",
            " 5   Gender           10000 non-null  object \n",
            " 6   Age              10000 non-null  int64  \n",
            " 7   Tenure           10000 non-null  int64  \n",
            " 8   Balance          10000 non-null  float64\n",
            " 9   NumOfProducts    10000 non-null  int64  \n",
            " 10  HasCrCard        10000 non-null  int64  \n",
            " 11  IsActiveMember   10000 non-null  int64  \n",
            " 12  EstimatedSalary  10000 non-null  float64\n",
            " 13  Exited           10000 non-null  int64  \n",
            "dtypes: float64(2), int64(9), object(3)\n",
            "memory usage: 1.1+ MB\n"
          ]
        }
      ]
    },
    {
      "cell_type": "code",
      "metadata": {
        "execution": {
          "iopub.execute_input": "2021-07-01T16:14:37.078694Z",
          "iopub.status.busy": "2021-07-01T16:14:37.077648Z",
          "iopub.status.idle": "2021-07-01T16:14:37.082530Z",
          "shell.execute_reply": "2021-07-01T16:14:37.081955Z",
          "shell.execute_reply.started": "2021-05-20T18:51:08.168923Z"
        },
        "papermill": {
          "duration": 0.040742,
          "end_time": "2021-07-01T16:14:37.082708",
          "exception": false,
          "start_time": "2021-07-01T16:14:37.041966",
          "status": "completed"
        },
        "tags": [],
        "colab": {
          "base_uri": "https://localhost:8080/"
        },
        "id": "protective-trunk",
        "outputId": "9981c1f2-e15b-4f1a-e741-595fec92138b"
      },
      "source": [
        "# checking for null values\n",
        "df.isna().sum()"
      ],
      "id": "protective-trunk",
      "execution_count": null,
      "outputs": [
        {
          "output_type": "execute_result",
          "data": {
            "text/plain": [
              "RowNumber          0\n",
              "CustomerId         0\n",
              "Surname            0\n",
              "CreditScore        0\n",
              "Geography          0\n",
              "Gender             0\n",
              "Age                0\n",
              "Tenure             0\n",
              "Balance            0\n",
              "NumOfProducts      0\n",
              "HasCrCard          0\n",
              "IsActiveMember     0\n",
              "EstimatedSalary    0\n",
              "Exited             0\n",
              "dtype: int64"
            ]
          },
          "metadata": {},
          "execution_count": 169
        }
      ]
    },
    {
      "cell_type": "code",
      "metadata": {
        "colab": {
          "base_uri": "https://localhost:8080/",
          "height": 223
        },
        "id": "88729bef",
        "outputId": "54b7995e-a88d-45b5-e781-38ca18187f8f"
      },
      "source": [
        "df.head()"
      ],
      "id": "88729bef",
      "execution_count": null,
      "outputs": [
        {
          "output_type": "execute_result",
          "data": {
            "text/html": [
              "<div>\n",
              "<style scoped>\n",
              "    .dataframe tbody tr th:only-of-type {\n",
              "        vertical-align: middle;\n",
              "    }\n",
              "\n",
              "    .dataframe tbody tr th {\n",
              "        vertical-align: top;\n",
              "    }\n",
              "\n",
              "    .dataframe thead th {\n",
              "        text-align: right;\n",
              "    }\n",
              "</style>\n",
              "<table border=\"1\" class=\"dataframe\">\n",
              "  <thead>\n",
              "    <tr style=\"text-align: right;\">\n",
              "      <th></th>\n",
              "      <th>RowNumber</th>\n",
              "      <th>CustomerId</th>\n",
              "      <th>Surname</th>\n",
              "      <th>CreditScore</th>\n",
              "      <th>Geography</th>\n",
              "      <th>Gender</th>\n",
              "      <th>Age</th>\n",
              "      <th>Tenure</th>\n",
              "      <th>Balance</th>\n",
              "      <th>NumOfProducts</th>\n",
              "      <th>HasCrCard</th>\n",
              "      <th>IsActiveMember</th>\n",
              "      <th>EstimatedSalary</th>\n",
              "      <th>Exited</th>\n",
              "    </tr>\n",
              "  </thead>\n",
              "  <tbody>\n",
              "    <tr>\n",
              "      <th>0</th>\n",
              "      <td>1</td>\n",
              "      <td>15634602</td>\n",
              "      <td>Hargrave</td>\n",
              "      <td>619</td>\n",
              "      <td>France</td>\n",
              "      <td>Female</td>\n",
              "      <td>42</td>\n",
              "      <td>2</td>\n",
              "      <td>0.00</td>\n",
              "      <td>1</td>\n",
              "      <td>1</td>\n",
              "      <td>1</td>\n",
              "      <td>101348.88</td>\n",
              "      <td>1</td>\n",
              "    </tr>\n",
              "    <tr>\n",
              "      <th>1</th>\n",
              "      <td>2</td>\n",
              "      <td>15647311</td>\n",
              "      <td>Hill</td>\n",
              "      <td>608</td>\n",
              "      <td>Spain</td>\n",
              "      <td>Female</td>\n",
              "      <td>41</td>\n",
              "      <td>1</td>\n",
              "      <td>83807.86</td>\n",
              "      <td>1</td>\n",
              "      <td>0</td>\n",
              "      <td>1</td>\n",
              "      <td>112542.58</td>\n",
              "      <td>0</td>\n",
              "    </tr>\n",
              "    <tr>\n",
              "      <th>2</th>\n",
              "      <td>3</td>\n",
              "      <td>15619304</td>\n",
              "      <td>Onio</td>\n",
              "      <td>502</td>\n",
              "      <td>France</td>\n",
              "      <td>Female</td>\n",
              "      <td>42</td>\n",
              "      <td>8</td>\n",
              "      <td>159660.80</td>\n",
              "      <td>3</td>\n",
              "      <td>1</td>\n",
              "      <td>0</td>\n",
              "      <td>113931.57</td>\n",
              "      <td>1</td>\n",
              "    </tr>\n",
              "    <tr>\n",
              "      <th>3</th>\n",
              "      <td>4</td>\n",
              "      <td>15701354</td>\n",
              "      <td>Boni</td>\n",
              "      <td>699</td>\n",
              "      <td>France</td>\n",
              "      <td>Female</td>\n",
              "      <td>39</td>\n",
              "      <td>1</td>\n",
              "      <td>0.00</td>\n",
              "      <td>2</td>\n",
              "      <td>0</td>\n",
              "      <td>0</td>\n",
              "      <td>93826.63</td>\n",
              "      <td>0</td>\n",
              "    </tr>\n",
              "    <tr>\n",
              "      <th>4</th>\n",
              "      <td>5</td>\n",
              "      <td>15737888</td>\n",
              "      <td>Mitchell</td>\n",
              "      <td>850</td>\n",
              "      <td>Spain</td>\n",
              "      <td>Female</td>\n",
              "      <td>43</td>\n",
              "      <td>2</td>\n",
              "      <td>125510.82</td>\n",
              "      <td>1</td>\n",
              "      <td>1</td>\n",
              "      <td>1</td>\n",
              "      <td>79084.10</td>\n",
              "      <td>0</td>\n",
              "    </tr>\n",
              "  </tbody>\n",
              "</table>\n",
              "</div>"
            ],
            "text/plain": [
              "   RowNumber  CustomerId   Surname  ...  IsActiveMember EstimatedSalary Exited\n",
              "0          1    15634602  Hargrave  ...               1       101348.88      1\n",
              "1          2    15647311      Hill  ...               1       112542.58      0\n",
              "2          3    15619304      Onio  ...               0       113931.57      1\n",
              "3          4    15701354      Boni  ...               0        93826.63      0\n",
              "4          5    15737888  Mitchell  ...               1        79084.10      0\n",
              "\n",
              "[5 rows x 14 columns]"
            ]
          },
          "metadata": {},
          "execution_count": 170
        }
      ]
    },
    {
      "cell_type": "code",
      "metadata": {
        "colab": {
          "base_uri": "https://localhost:8080/"
        },
        "id": "9672c723",
        "outputId": "be38c014-081a-4a29-8bc6-3d4327ec5a67"
      },
      "source": [
        "df.Geography.unique()"
      ],
      "id": "9672c723",
      "execution_count": null,
      "outputs": [
        {
          "output_type": "execute_result",
          "data": {
            "text/plain": [
              "array(['France', 'Spain', 'Germany'], dtype=object)"
            ]
          },
          "metadata": {},
          "execution_count": 171
        }
      ]
    },
    {
      "cell_type": "code",
      "metadata": {
        "colab": {
          "base_uri": "https://localhost:8080/"
        },
        "id": "932b655e",
        "outputId": "9e802f51-9826-4ef5-d3e4-b7f930e833c0"
      },
      "source": [
        "df['Age']"
      ],
      "id": "932b655e",
      "execution_count": null,
      "outputs": [
        {
          "output_type": "execute_result",
          "data": {
            "text/plain": [
              "0       42\n",
              "1       41\n",
              "2       42\n",
              "3       39\n",
              "4       43\n",
              "        ..\n",
              "9995    39\n",
              "9996    35\n",
              "9997    36\n",
              "9998    42\n",
              "9999    28\n",
              "Name: Age, Length: 10000, dtype: int64"
            ]
          },
          "metadata": {},
          "execution_count": 172
        }
      ]
    },
    {
      "cell_type": "code",
      "metadata": {
        "colab": {
          "base_uri": "https://localhost:8080/",
          "height": 373
        },
        "id": "IlObY6z0eScm",
        "outputId": "c880cb94-d216-4bd4-90fc-150a03784be2"
      },
      "source": [
        "plt.hist(df['Age'], bins = 20)"
      ],
      "id": "IlObY6z0eScm",
      "execution_count": null,
      "outputs": [
        {
          "output_type": "execute_result",
          "data": {
            "text/plain": [
              "(array([ 142.,  469., 1030., 1149., 1819., 1810.,  984.,  887.,  568.,\n",
              "         260.,  294.,  229.,  130.,   78.,   79.,   48.,   12.,    8.,\n",
              "           2.,    2.]),\n",
              " array([18. , 21.7, 25.4, 29.1, 32.8, 36.5, 40.2, 43.9, 47.6, 51.3, 55. ,\n",
              "        58.7, 62.4, 66.1, 69.8, 73.5, 77.2, 80.9, 84.6, 88.3, 92. ]),\n",
              " <a list of 20 Patch objects>)"
            ]
          },
          "metadata": {},
          "execution_count": 173
        },
        {
          "output_type": "display_data",
          "data": {
            "image/png": "[encoded data removed]",
            "text/plain": [
              "<Figure size 432x288 with 1 Axes>"
            ]
          },
          "metadata": {}
        }
      ]
    },
    {
      "cell_type": "code",
      "metadata": {
        "id": "cb222710"
      },
      "source": [
        "df=pd.get_dummies(df, columns=['Geography','Gender'])"
      ],
      "id": "cb222710",
      "execution_count": null,
      "outputs": []
    },
    {
      "cell_type": "code",
      "metadata": {
        "colab": {
          "base_uri": "https://localhost:8080/",
          "height": 437
        },
        "id": "a1278e2a",
        "outputId": "40b7306b-2107-4958-bc3e-c05f4eed65d5"
      },
      "source": [
        "df"
      ],
      "id": "a1278e2a",
      "execution_count": null,
      "outputs": [
        {
          "output_type": "execute_result",
          "data": {
            "text/html": [
              "<div>\n",
              "<style scoped>\n",
              "    .dataframe tbody tr th:only-of-type {\n",
              "        vertical-align: middle;\n",
              "    }\n",
              "\n",
              "    .dataframe tbody tr th {\n",
              "        vertical-align: top;\n",
              "    }\n",
              "\n",
              "    .dataframe thead th {\n",
              "        text-align: right;\n",
              "    }\n",
              "</style>\n",
              "<table border=\"1\" class=\"dataframe\">\n",
              "  <thead>\n",
              "    <tr style=\"text-align: right;\">\n",
              "      <th></th>\n",
              "      <th>RowNumber</th>\n",
              "      <th>CustomerId</th>\n",
              "      <th>Surname</th>\n",
              "      <th>CreditScore</th>\n",
              "      <th>Age</th>\n",
              "      <th>Tenure</th>\n",
              "      <th>Balance</th>\n",
              "      <th>NumOfProducts</th>\n",
              "      <th>HasCrCard</th>\n",
              "      <th>IsActiveMember</th>\n",
              "      <th>EstimatedSalary</th>\n",
              "      <th>Exited</th>\n",
              "      <th>Geography_France</th>\n",
              "      <th>Geography_Germany</th>\n",
              "      <th>Geography_Spain</th>\n",
              "      <th>Gender_Female</th>\n",
              "      <th>Gender_Male</th>\n",
              "    </tr>\n",
              "  </thead>\n",
              "  <tbody>\n",
              "    <tr>\n",
              "      <th>0</th>\n",
              "      <td>1</td>\n",
              "      <td>15634602</td>\n",
              "      <td>Hargrave</td>\n",
              "      <td>619</td>\n",
              "      <td>42</td>\n",
              "      <td>2</td>\n",
              "      <td>0.00</td>\n",
              "      <td>1</td>\n",
              "      <td>1</td>\n",
              "      <td>1</td>\n",
              "      <td>101348.88</td>\n",
              "      <td>1</td>\n",
              "      <td>1</td>\n",
              "      <td>0</td>\n",
              "      <td>0</td>\n",
              "      <td>1</td>\n",
              "      <td>0</td>\n",
              "    </tr>\n",
              "    <tr>\n",
              "      <th>1</th>\n",
              "      <td>2</td>\n",
              "      <td>15647311</td>\n",
              "      <td>Hill</td>\n",
              "      <td>608</td>\n",
              "      <td>41</td>\n",
              "      <td>1</td>\n",
              "      <td>83807.86</td>\n",
              "      <td>1</td>\n",
              "      <td>0</td>\n",
              "      <td>1</td>\n",
              "      <td>112542.58</td>\n",
              "      <td>0</td>\n",
              "      <td>0</td>\n",
              "      <td>0</td>\n",
              "      <td>1</td>\n",
              "      <td>1</td>\n",
              "      <td>0</td>\n",
              "    </tr>\n",
              "    <tr>\n",
              "      <th>2</th>\n",
              "      <td>3</td>\n",
              "      <td>15619304</td>\n",
              "      <td>Onio</td>\n",
              "      <td>502</td>\n",
              "      <td>42</td>\n",
              "      <td>8</td>\n",
              "      <td>159660.80</td>\n",
              "      <td>3</td>\n",
              "      <td>1</td>\n",
              "      <td>0</td>\n",
              "      <td>113931.57</td>\n",
              "      <td>1</td>\n",
              "      <td>1</td>\n",
              "      <td>0</td>\n",
              "      <td>0</td>\n",
              "      <td>1</td>\n",
              "      <td>0</td>\n",
              "    </tr>\n",
              "    <tr>\n",
              "      <th>3</th>\n",
              "      <td>4</td>\n",
              "      <td>15701354</td>\n",
              "      <td>Boni</td>\n",
              "      <td>699</td>\n",
              "      <td>39</td>\n",
              "      <td>1</td>\n",
              "      <td>0.00</td>\n",
              "      <td>2</td>\n",
              "      <td>0</td>\n",
              "      <td>0</td>\n",
              "      <td>93826.63</td>\n",
              "      <td>0</td>\n",
              "      <td>1</td>\n",
              "      <td>0</td>\n",
              "      <td>0</td>\n",
              "      <td>1</td>\n",
              "      <td>0</td>\n",
              "    </tr>\n",
              "    <tr>\n",
              "      <th>4</th>\n",
              "      <td>5</td>\n",
              "      <td>15737888</td>\n",
              "      <td>Mitchell</td>\n",
              "      <td>850</td>\n",
              "      <td>43</td>\n",
              "      <td>2</td>\n",
              "      <td>125510.82</td>\n",
              "      <td>1</td>\n",
              "      <td>1</td>\n",
              "      <td>1</td>\n",
              "      <td>79084.10</td>\n",
              "      <td>0</td>\n",
              "      <td>0</td>\n",
              "      <td>0</td>\n",
              "      <td>1</td>\n",
              "      <td>1</td>\n",
              "      <td>0</td>\n",
              "    </tr>\n",
              "    <tr>\n",
              "      <th>...</th>\n",
              "      <td>...</td>\n",
              "      <td>...</td>\n",
              "      <td>...</td>\n",
              "      <td>...</td>\n",
              "      <td>...</td>\n",
              "      <td>...</td>\n",
              "      <td>...</td>\n",
              "      <td>...</td>\n",
              "      <td>...</td>\n",
              "      <td>...</td>\n",
              "      <td>...</td>\n",
              "      <td>...</td>\n",
              "      <td>...</td>\n",
              "      <td>...</td>\n",
              "      <td>...</td>\n",
              "      <td>...</td>\n",
              "      <td>...</td>\n",
              "    </tr>\n",
              "    <tr>\n",
              "      <th>9995</th>\n",
              "      <td>9996</td>\n",
              "      <td>15606229</td>\n",
              "      <td>Obijiaku</td>\n",
              "      <td>771</td>\n",
              "      <td>39</td>\n",
              "      <td>5</td>\n",
              "      <td>0.00</td>\n",
              "      <td>2</td>\n",
              "      <td>1</td>\n",
              "      <td>0</td>\n",
              "      <td>96270.64</td>\n",
              "      <td>0</td>\n",
              "      <td>1</td>\n",
              "      <td>0</td>\n",
              "      <td>0</td>\n",
              "      <td>0</td>\n",
              "      <td>1</td>\n",
              "    </tr>\n",
              "    <tr>\n",
              "      <th>9996</th>\n",
              "      <td>9997</td>\n",
              "      <td>15569892</td>\n",
              "      <td>Johnstone</td>\n",
              "      <td>516</td>\n",
              "      <td>35</td>\n",
              "      <td>10</td>\n",
              "      <td>57369.61</td>\n",
              "      <td>1</td>\n",
              "      <td>1</td>\n",
              "      <td>1</td>\n",
              "      <td>101699.77</td>\n",
              "      <td>0</td>\n",
              "      <td>1</td>\n",
              "      <td>0</td>\n",
              "      <td>0</td>\n",
              "      <td>0</td>\n",
              "      <td>1</td>\n",
              "    </tr>\n",
              "    <tr>\n",
              "      <th>9997</th>\n",
              "      <td>9998</td>\n",
              "      <td>15584532</td>\n",
              "      <td>Liu</td>\n",
              "      <td>709</td>\n",
              "      <td>36</td>\n",
              "      <td>7</td>\n",
              "      <td>0.00</td>\n",
              "      <td>1</td>\n",
              "      <td>0</td>\n",
              "      <td>1</td>\n",
              "      <td>42085.58</td>\n",
              "      <td>1</td>\n",
              "      <td>1</td>\n",
              "      <td>0</td>\n",
              "      <td>0</td>\n",
              "      <td>1</td>\n",
              "      <td>0</td>\n",
              "    </tr>\n",
              "    <tr>\n",
              "      <th>9998</th>\n",
              "      <td>9999</td>\n",
              "      <td>15682355</td>\n",
              "      <td>Sabbatini</td>\n",
              "      <td>772</td>\n",
              "      <td>42</td>\n",
              "      <td>3</td>\n",
              "      <td>75075.31</td>\n",
              "      <td>2</td>\n",
              "      <td>1</td>\n",
              "      <td>0</td>\n",
              "      <td>92888.52</td>\n",
              "      <td>1</td>\n",
              "      <td>0</td>\n",
              "      <td>1</td>\n",
              "      <td>0</td>\n",
              "      <td>0</td>\n",
              "      <td>1</td>\n",
              "    </tr>\n",
              "    <tr>\n",
              "      <th>9999</th>\n",
              "      <td>10000</td>\n",
              "      <td>15628319</td>\n",
              "      <td>Walker</td>\n",
              "      <td>792</td>\n",
              "      <td>28</td>\n",
              "      <td>4</td>\n",
              "      <td>130142.79</td>\n",
              "      <td>1</td>\n",
              "      <td>1</td>\n",
              "      <td>0</td>\n",
              "      <td>38190.78</td>\n",
              "      <td>0</td>\n",
              "      <td>1</td>\n",
              "      <td>0</td>\n",
              "      <td>0</td>\n",
              "      <td>1</td>\n",
              "      <td>0</td>\n",
              "    </tr>\n",
              "  </tbody>\n",
              "</table>\n",
              "<p>10000 rows × 17 columns</p>\n",
              "</div>"
            ],
            "text/plain": [
              "      RowNumber  CustomerId  ... Gender_Female  Gender_Male\n",
              "0             1    15634602  ...             1            0\n",
              "1             2    15647311  ...             1            0\n",
              "2             3    15619304  ...             1            0\n",
              "3             4    15701354  ...             1            0\n",
              "4             5    15737888  ...             1            0\n",
              "...         ...         ...  ...           ...          ...\n",
              "9995       9996    15606229  ...             0            1\n",
              "9996       9997    15569892  ...             0            1\n",
              "9997       9998    15584532  ...             1            0\n",
              "9998       9999    15682355  ...             0            1\n",
              "9999      10000    15628319  ...             1            0\n",
              "\n",
              "[10000 rows x 17 columns]"
            ]
          },
          "metadata": {},
          "execution_count": 175
        }
      ]
    },
    {
      "cell_type": "code",
      "metadata": {
        "colab": {
          "base_uri": "https://localhost:8080/"
        },
        "id": "46230e99",
        "outputId": "5cefa0ff-2fba-4287-c909-e2c983e355b6"
      },
      "source": [
        "df.info()"
      ],
      "id": "46230e99",
      "execution_count": null,
      "outputs": [
        {
          "output_type": "stream",
          "name": "stdout",
          "text": [
            "<class 'pandas.core.frame.DataFrame'>\n",
            "RangeIndex: 10000 entries, 0 to 9999\n",
            "Data columns (total 17 columns):\n",
            " #   Column             Non-Null Count  Dtype  \n",
            "---  ------             --------------  -----  \n",
            " 0   RowNumber          10000 non-null  int64  \n",
            " 1   CustomerId         10000 non-null  int64  \n",
            " 2   Surname            10000 non-null  object \n",
            " 3   CreditScore        10000 non-null  int64  \n",
            " 4   Age                10000 non-null  int64  \n",
            " 5   Tenure             10000 non-null  int64  \n",
            " 6   Balance            10000 non-null  float64\n",
            " 7   NumOfProducts      10000 non-null  int64  \n",
            " 8   HasCrCard          10000 non-null  int64  \n",
            " 9   IsActiveMember     10000 non-null  int64  \n",
            " 10  EstimatedSalary    10000 non-null  float64\n",
            " 11  Exited             10000 non-null  int64  \n",
            " 12  Geography_France   10000 non-null  uint8  \n",
            " 13  Geography_Germany  10000 non-null  uint8  \n",
            " 14  Geography_Spain    10000 non-null  uint8  \n",
            " 15  Gender_Female      10000 non-null  uint8  \n",
            " 16  Gender_Male        10000 non-null  uint8  \n",
            "dtypes: float64(2), int64(9), object(1), uint8(5)\n",
            "memory usage: 986.5+ KB\n"
          ]
        }
      ]
    },
    {
      "cell_type": "code",
      "metadata": {
        "colab": {
          "base_uri": "https://localhost:8080/",
          "height": 223
        },
        "id": "7dc86241",
        "outputId": "2fb926ce-3ac6-4313-8264-e71aea22e669"
      },
      "source": [
        "df.head()"
      ],
      "id": "7dc86241",
      "execution_count": null,
      "outputs": [
        {
          "output_type": "execute_result",
          "data": {
            "text/html": [
              "<div>\n",
              "<style scoped>\n",
              "    .dataframe tbody tr th:only-of-type {\n",
              "        vertical-align: middle;\n",
              "    }\n",
              "\n",
              "    .dataframe tbody tr th {\n",
              "        vertical-align: top;\n",
              "    }\n",
              "\n",
              "    .dataframe thead th {\n",
              "        text-align: right;\n",
              "    }\n",
              "</style>\n",
              "<table border=\"1\" class=\"dataframe\">\n",
              "  <thead>\n",
              "    <tr style=\"text-align: right;\">\n",
              "      <th></th>\n",
              "      <th>RowNumber</th>\n",
              "      <th>CustomerId</th>\n",
              "      <th>Surname</th>\n",
              "      <th>CreditScore</th>\n",
              "      <th>Age</th>\n",
              "      <th>Tenure</th>\n",
              "      <th>Balance</th>\n",
              "      <th>NumOfProducts</th>\n",
              "      <th>HasCrCard</th>\n",
              "      <th>IsActiveMember</th>\n",
              "      <th>EstimatedSalary</th>\n",
              "      <th>Exited</th>\n",
              "      <th>Geography_France</th>\n",
              "      <th>Geography_Germany</th>\n",
              "      <th>Geography_Spain</th>\n",
              "      <th>Gender_Female</th>\n",
              "      <th>Gender_Male</th>\n",
              "    </tr>\n",
              "  </thead>\n",
              "  <tbody>\n",
              "    <tr>\n",
              "      <th>0</th>\n",
              "      <td>1</td>\n",
              "      <td>15634602</td>\n",
              "      <td>Hargrave</td>\n",
              "      <td>619</td>\n",
              "      <td>42</td>\n",
              "      <td>2</td>\n",
              "      <td>0.00</td>\n",
              "      <td>1</td>\n",
              "      <td>1</td>\n",
              "      <td>1</td>\n",
              "      <td>101348.88</td>\n",
              "      <td>1</td>\n",
              "      <td>1</td>\n",
              "      <td>0</td>\n",
              "      <td>0</td>\n",
              "      <td>1</td>\n",
              "      <td>0</td>\n",
              "    </tr>\n",
              "    <tr>\n",
              "      <th>1</th>\n",
              "      <td>2</td>\n",
              "      <td>15647311</td>\n",
              "      <td>Hill</td>\n",
              "      <td>608</td>\n",
              "      <td>41</td>\n",
              "      <td>1</td>\n",
              "      <td>83807.86</td>\n",
              "      <td>1</td>\n",
              "      <td>0</td>\n",
              "      <td>1</td>\n",
              "      <td>112542.58</td>\n",
              "      <td>0</td>\n",
              "      <td>0</td>\n",
              "      <td>0</td>\n",
              "      <td>1</td>\n",
              "      <td>1</td>\n",
              "      <td>0</td>\n",
              "    </tr>\n",
              "    <tr>\n",
              "      <th>2</th>\n",
              "      <td>3</td>\n",
              "      <td>15619304</td>\n",
              "      <td>Onio</td>\n",
              "      <td>502</td>\n",
              "      <td>42</td>\n",
              "      <td>8</td>\n",
              "      <td>159660.80</td>\n",
              "      <td>3</td>\n",
              "      <td>1</td>\n",
              "      <td>0</td>\n",
              "      <td>113931.57</td>\n",
              "      <td>1</td>\n",
              "      <td>1</td>\n",
              "      <td>0</td>\n",
              "      <td>0</td>\n",
              "      <td>1</td>\n",
              "      <td>0</td>\n",
              "    </tr>\n",
              "    <tr>\n",
              "      <th>3</th>\n",
              "      <td>4</td>\n",
              "      <td>15701354</td>\n",
              "      <td>Boni</td>\n",
              "      <td>699</td>\n",
              "      <td>39</td>\n",
              "      <td>1</td>\n",
              "      <td>0.00</td>\n",
              "      <td>2</td>\n",
              "      <td>0</td>\n",
              "      <td>0</td>\n",
              "      <td>93826.63</td>\n",
              "      <td>0</td>\n",
              "      <td>1</td>\n",
              "      <td>0</td>\n",
              "      <td>0</td>\n",
              "      <td>1</td>\n",
              "      <td>0</td>\n",
              "    </tr>\n",
              "    <tr>\n",
              "      <th>4</th>\n",
              "      <td>5</td>\n",
              "      <td>15737888</td>\n",
              "      <td>Mitchell</td>\n",
              "      <td>850</td>\n",
              "      <td>43</td>\n",
              "      <td>2</td>\n",
              "      <td>125510.82</td>\n",
              "      <td>1</td>\n",
              "      <td>1</td>\n",
              "      <td>1</td>\n",
              "      <td>79084.10</td>\n",
              "      <td>0</td>\n",
              "      <td>0</td>\n",
              "      <td>0</td>\n",
              "      <td>1</td>\n",
              "      <td>1</td>\n",
              "      <td>0</td>\n",
              "    </tr>\n",
              "  </tbody>\n",
              "</table>\n",
              "</div>"
            ],
            "text/plain": [
              "   RowNumber  CustomerId   Surname  ...  Geography_Spain  Gender_Female  Gender_Male\n",
              "0          1    15634602  Hargrave  ...                0              1            0\n",
              "1          2    15647311      Hill  ...                1              1            0\n",
              "2          3    15619304      Onio  ...                0              1            0\n",
              "3          4    15701354      Boni  ...                0              1            0\n",
              "4          5    15737888  Mitchell  ...                1              1            0\n",
              "\n",
              "[5 rows x 17 columns]"
            ]
          },
          "metadata": {},
          "execution_count": 177
        }
      ]
    },
    {
      "cell_type": "code",
      "metadata": {
        "execution": {
          "iopub.execute_input": "2021-07-01T16:14:40.666917Z",
          "iopub.status.busy": "2021-07-01T16:14:40.666221Z",
          "iopub.status.idle": "2021-07-01T16:14:40.683669Z",
          "shell.execute_reply": "2021-07-01T16:14:40.683088Z",
          "shell.execute_reply.started": "2021-05-20T18:51:10.927646Z"
        },
        "papermill": {
          "duration": 0.049405,
          "end_time": "2021-07-01T16:14:40.683839",
          "exception": false,
          "start_time": "2021-07-01T16:14:40.634434",
          "status": "completed"
        },
        "tags": [],
        "colab": {
          "base_uri": "https://localhost:8080/",
          "height": 223
        },
        "id": "universal-buyer",
        "outputId": "c47b0a35-a8be-4643-addd-9ad80b43aa4f"
      },
      "source": [
        "# Dropping columns which either don't help in prediction or can be used to identify individuals from Dataset \n",
        "\n",
        "df.drop(columns = ['RowNumber', 'CustomerId', 'Surname'], axis = 1, inplace = True)\n",
        "df.head()"
      ],
      "id": "universal-buyer",
      "execution_count": null,
      "outputs": [
        {
          "output_type": "execute_result",
          "data": {
            "text/html": [
              "<div>\n",
              "<style scoped>\n",
              "    .dataframe tbody tr th:only-of-type {\n",
              "        vertical-align: middle;\n",
              "    }\n",
              "\n",
              "    .dataframe tbody tr th {\n",
              "        vertical-align: top;\n",
              "    }\n",
              "\n",
              "    .dataframe thead th {\n",
              "        text-align: right;\n",
              "    }\n",
              "</style>\n",
              "<table border=\"1\" class=\"dataframe\">\n",
              "  <thead>\n",
              "    <tr style=\"text-align: right;\">\n",
              "      <th></th>\n",
              "      <th>CreditScore</th>\n",
              "      <th>Age</th>\n",
              "      <th>Tenure</th>\n",
              "      <th>Balance</th>\n",
              "      <th>NumOfProducts</th>\n",
              "      <th>HasCrCard</th>\n",
              "      <th>IsActiveMember</th>\n",
              "      <th>EstimatedSalary</th>\n",
              "      <th>Exited</th>\n",
              "      <th>Geography_France</th>\n",
              "      <th>Geography_Germany</th>\n",
              "      <th>Geography_Spain</th>\n",
              "      <th>Gender_Female</th>\n",
              "      <th>Gender_Male</th>\n",
              "    </tr>\n",
              "  </thead>\n",
              "  <tbody>\n",
              "    <tr>\n",
              "      <th>0</th>\n",
              "      <td>619</td>\n",
              "      <td>42</td>\n",
              "      <td>2</td>\n",
              "      <td>0.00</td>\n",
              "      <td>1</td>\n",
              "      <td>1</td>\n",
              "      <td>1</td>\n",
              "      <td>101348.88</td>\n",
              "      <td>1</td>\n",
              "      <td>1</td>\n",
              "      <td>0</td>\n",
              "      <td>0</td>\n",
              "      <td>1</td>\n",
              "      <td>0</td>\n",
              "    </tr>\n",
              "    <tr>\n",
              "      <th>1</th>\n",
              "      <td>608</td>\n",
              "      <td>41</td>\n",
              "      <td>1</td>\n",
              "      <td>83807.86</td>\n",
              "      <td>1</td>\n",
              "      <td>0</td>\n",
              "      <td>1</td>\n",
              "      <td>112542.58</td>\n",
              "      <td>0</td>\n",
              "      <td>0</td>\n",
              "      <td>0</td>\n",
              "      <td>1</td>\n",
              "      <td>1</td>\n",
              "      <td>0</td>\n",
              "    </tr>\n",
              "    <tr>\n",
              "      <th>2</th>\n",
              "      <td>502</td>\n",
              "      <td>42</td>\n",
              "      <td>8</td>\n",
              "      <td>159660.80</td>\n",
              "      <td>3</td>\n",
              "      <td>1</td>\n",
              "      <td>0</td>\n",
              "      <td>113931.57</td>\n",
              "      <td>1</td>\n",
              "      <td>1</td>\n",
              "      <td>0</td>\n",
              "      <td>0</td>\n",
              "      <td>1</td>\n",
              "      <td>0</td>\n",
              "    </tr>\n",
              "    <tr>\n",
              "      <th>3</th>\n",
              "      <td>699</td>\n",
              "      <td>39</td>\n",
              "      <td>1</td>\n",
              "      <td>0.00</td>\n",
              "      <td>2</td>\n",
              "      <td>0</td>\n",
              "      <td>0</td>\n",
              "      <td>93826.63</td>\n",
              "      <td>0</td>\n",
              "      <td>1</td>\n",
              "      <td>0</td>\n",
              "      <td>0</td>\n",
              "      <td>1</td>\n",
              "      <td>0</td>\n",
              "    </tr>\n",
              "    <tr>\n",
              "      <th>4</th>\n",
              "      <td>850</td>\n",
              "      <td>43</td>\n",
              "      <td>2</td>\n",
              "      <td>125510.82</td>\n",
              "      <td>1</td>\n",
              "      <td>1</td>\n",
              "      <td>1</td>\n",
              "      <td>79084.10</td>\n",
              "      <td>0</td>\n",
              "      <td>0</td>\n",
              "      <td>0</td>\n",
              "      <td>1</td>\n",
              "      <td>1</td>\n",
              "      <td>0</td>\n",
              "    </tr>\n",
              "  </tbody>\n",
              "</table>\n",
              "</div>"
            ],
            "text/plain": [
              "   CreditScore  Age  Tenure  ...  Geography_Spain  Gender_Female  Gender_Male\n",
              "0          619   42       2  ...                0              1            0\n",
              "1          608   41       1  ...                1              1            0\n",
              "2          502   42       8  ...                0              1            0\n",
              "3          699   39       1  ...                0              1            0\n",
              "4          850   43       2  ...                1              1            0\n",
              "\n",
              "[5 rows x 14 columns]"
            ]
          },
          "metadata": {},
          "execution_count": 178
        }
      ]
    },
    {
      "cell_type": "code",
      "metadata": {
        "execution": {
          "iopub.execute_input": "2021-07-01T16:14:40.897183Z",
          "iopub.status.busy": "2021-07-01T16:14:40.896443Z",
          "iopub.status.idle": "2021-07-01T16:14:40.911748Z",
          "shell.execute_reply": "2021-07-01T16:14:40.911155Z",
          "shell.execute_reply.started": "2021-05-20T18:51:10.979493Z"
        },
        "papermill": {
          "duration": 0.051664,
          "end_time": "2021-07-01T16:14:40.911901",
          "exception": false,
          "start_time": "2021-07-01T16:14:40.860237",
          "status": "completed"
        },
        "tags": [],
        "colab": {
          "base_uri": "https://localhost:8080/",
          "height": 223
        },
        "id": "naked-penetration",
        "outputId": "81293277-694c-4f10-9f3b-606b3e037fbe"
      },
      "source": [
        "df.head()"
      ],
      "id": "naked-penetration",
      "execution_count": null,
      "outputs": [
        {
          "output_type": "execute_result",
          "data": {
            "text/html": [
              "<div>\n",
              "<style scoped>\n",
              "    .dataframe tbody tr th:only-of-type {\n",
              "        vertical-align: middle;\n",
              "    }\n",
              "\n",
              "    .dataframe tbody tr th {\n",
              "        vertical-align: top;\n",
              "    }\n",
              "\n",
              "    .dataframe thead th {\n",
              "        text-align: right;\n",
              "    }\n",
              "</style>\n",
              "<table border=\"1\" class=\"dataframe\">\n",
              "  <thead>\n",
              "    <tr style=\"text-align: right;\">\n",
              "      <th></th>\n",
              "      <th>CreditScore</th>\n",
              "      <th>Age</th>\n",
              "      <th>Tenure</th>\n",
              "      <th>Balance</th>\n",
              "      <th>NumOfProducts</th>\n",
              "      <th>HasCrCard</th>\n",
              "      <th>IsActiveMember</th>\n",
              "      <th>EstimatedSalary</th>\n",
              "      <th>Exited</th>\n",
              "      <th>Geography_France</th>\n",
              "      <th>Geography_Germany</th>\n",
              "      <th>Geography_Spain</th>\n",
              "      <th>Gender_Female</th>\n",
              "      <th>Gender_Male</th>\n",
              "    </tr>\n",
              "  </thead>\n",
              "  <tbody>\n",
              "    <tr>\n",
              "      <th>0</th>\n",
              "      <td>619</td>\n",
              "      <td>42</td>\n",
              "      <td>2</td>\n",
              "      <td>0.00</td>\n",
              "      <td>1</td>\n",
              "      <td>1</td>\n",
              "      <td>1</td>\n",
              "      <td>101348.88</td>\n",
              "      <td>1</td>\n",
              "      <td>1</td>\n",
              "      <td>0</td>\n",
              "      <td>0</td>\n",
              "      <td>1</td>\n",
              "      <td>0</td>\n",
              "    </tr>\n",
              "    <tr>\n",
              "      <th>1</th>\n",
              "      <td>608</td>\n",
              "      <td>41</td>\n",
              "      <td>1</td>\n",
              "      <td>83807.86</td>\n",
              "      <td>1</td>\n",
              "      <td>0</td>\n",
              "      <td>1</td>\n",
              "      <td>112542.58</td>\n",
              "      <td>0</td>\n",
              "      <td>0</td>\n",
              "      <td>0</td>\n",
              "      <td>1</td>\n",
              "      <td>1</td>\n",
              "      <td>0</td>\n",
              "    </tr>\n",
              "    <tr>\n",
              "      <th>2</th>\n",
              "      <td>502</td>\n",
              "      <td>42</td>\n",
              "      <td>8</td>\n",
              "      <td>159660.80</td>\n",
              "      <td>3</td>\n",
              "      <td>1</td>\n",
              "      <td>0</td>\n",
              "      <td>113931.57</td>\n",
              "      <td>1</td>\n",
              "      <td>1</td>\n",
              "      <td>0</td>\n",
              "      <td>0</td>\n",
              "      <td>1</td>\n",
              "      <td>0</td>\n",
              "    </tr>\n",
              "    <tr>\n",
              "      <th>3</th>\n",
              "      <td>699</td>\n",
              "      <td>39</td>\n",
              "      <td>1</td>\n",
              "      <td>0.00</td>\n",
              "      <td>2</td>\n",
              "      <td>0</td>\n",
              "      <td>0</td>\n",
              "      <td>93826.63</td>\n",
              "      <td>0</td>\n",
              "      <td>1</td>\n",
              "      <td>0</td>\n",
              "      <td>0</td>\n",
              "      <td>1</td>\n",
              "      <td>0</td>\n",
              "    </tr>\n",
              "    <tr>\n",
              "      <th>4</th>\n",
              "      <td>850</td>\n",
              "      <td>43</td>\n",
              "      <td>2</td>\n",
              "      <td>125510.82</td>\n",
              "      <td>1</td>\n",
              "      <td>1</td>\n",
              "      <td>1</td>\n",
              "      <td>79084.10</td>\n",
              "      <td>0</td>\n",
              "      <td>0</td>\n",
              "      <td>0</td>\n",
              "      <td>1</td>\n",
              "      <td>1</td>\n",
              "      <td>0</td>\n",
              "    </tr>\n",
              "  </tbody>\n",
              "</table>\n",
              "</div>"
            ],
            "text/plain": [
              "   CreditScore  Age  Tenure  ...  Geography_Spain  Gender_Female  Gender_Male\n",
              "0          619   42       2  ...                0              1            0\n",
              "1          608   41       1  ...                1              1            0\n",
              "2          502   42       8  ...                0              1            0\n",
              "3          699   39       1  ...                0              1            0\n",
              "4          850   43       2  ...                1              1            0\n",
              "\n",
              "[5 rows x 14 columns]"
            ]
          },
          "metadata": {},
          "execution_count": 179
        }
      ]
    },
    {
      "cell_type": "markdown",
      "metadata": {
        "id": "ex5hwflvkGka"
      },
      "source": [
        "Creating Test Data (100 Samples to be used later)"
      ],
      "id": "ex5hwflvkGka"
    },
    {
      "cell_type": "code",
      "metadata": {
        "id": "TRtEYnTDkJ09"
      },
      "source": [
        "test_ex1 = df[df[\"Exited\"]==1].sample(50)"
      ],
      "id": "TRtEYnTDkJ09",
      "execution_count": null,
      "outputs": []
    },
    {
      "cell_type": "code",
      "metadata": {
        "id": "lyN973QhkLp8"
      },
      "source": [
        "test_ex0 = df[df[\"Exited\"]==0].sample(50)"
      ],
      "id": "lyN973QhkLp8",
      "execution_count": null,
      "outputs": []
    },
    {
      "cell_type": "code",
      "metadata": {
        "id": "yXfKfArTkNCp"
      },
      "source": [
        "final_test_df = pd.concat([test_ex1, test_ex0])"
      ],
      "id": "yXfKfArTkNCp",
      "execution_count": null,
      "outputs": []
    },
    {
      "cell_type": "code",
      "metadata": {
        "id": "5ywC79ugkP6W"
      },
      "source": [
        "final_test_df.to_csv(\"Test_Churn.csv\", index=False)"
      ],
      "id": "5ywC79ugkP6W",
      "execution_count": null,
      "outputs": []
    },
    {
      "cell_type": "code",
      "metadata": {
        "id": "f5Taz_sdkRoH"
      },
      "source": [
        "train_val_df = df.drop(test_ex1.index.append(test_ex0.index))"
      ],
      "id": "f5Taz_sdkRoH",
      "execution_count": null,
      "outputs": []
    },
    {
      "cell_type": "code",
      "metadata": {
        "id": "FRxcTmhskTwV"
      },
      "source": [
        "train_val_df.to_csv(\"Train_Val_Churn.csv\", index=False)"
      ],
      "id": "FRxcTmhskTwV",
      "execution_count": null,
      "outputs": []
    },
    {
      "cell_type": "markdown",
      "metadata": {
        "id": "dnxr1S0lkXot"
      },
      "source": [
        "Using Train Data for Split"
      ],
      "id": "dnxr1S0lkXot"
    },
    {
      "cell_type": "code",
      "metadata": {
        "id": "OIZwkTq5kWoz"
      },
      "source": [
        "new_df = pd.read_csv(\"Train_Val_Churn.csv\")"
      ],
      "id": "OIZwkTq5kWoz",
      "execution_count": null,
      "outputs": []
    },
    {
      "cell_type": "code",
      "metadata": {
        "id": "nwdJRR3Yksjz"
      },
      "source": [
        "X = df.loc[:, df.columns != 'Exited']"
      ],
      "id": "nwdJRR3Yksjz",
      "execution_count": null,
      "outputs": []
    },
    {
      "cell_type": "code",
      "metadata": {
        "colab": {
          "base_uri": "https://localhost:8080/",
          "height": 223
        },
        "id": "WSz9lML_ku7u",
        "outputId": "64c21e55-ab53-40db-d2d0-d3d97f4505db"
      },
      "source": [
        "X.head()"
      ],
      "id": "WSz9lML_ku7u",
      "execution_count": null,
      "outputs": [
        {
          "output_type": "execute_result",
          "data": {
            "text/html": [
              "<div>\n",
              "<style scoped>\n",
              "    .dataframe tbody tr th:only-of-type {\n",
              "        vertical-align: middle;\n",
              "    }\n",
              "\n",
              "    .dataframe tbody tr th {\n",
              "        vertical-align: top;\n",
              "    }\n",
              "\n",
              "    .dataframe thead th {\n",
              "        text-align: right;\n",
              "    }\n",
              "</style>\n",
              "<table border=\"1\" class=\"dataframe\">\n",
              "  <thead>\n",
              "    <tr style=\"text-align: right;\">\n",
              "      <th></th>\n",
              "      <th>CreditScore</th>\n",
              "      <th>Age</th>\n",
              "      <th>Tenure</th>\n",
              "      <th>Balance</th>\n",
              "      <th>NumOfProducts</th>\n",
              "      <th>HasCrCard</th>\n",
              "      <th>IsActiveMember</th>\n",
              "      <th>EstimatedSalary</th>\n",
              "      <th>Geography_France</th>\n",
              "      <th>Geography_Germany</th>\n",
              "      <th>Geography_Spain</th>\n",
              "      <th>Gender_Female</th>\n",
              "      <th>Gender_Male</th>\n",
              "    </tr>\n",
              "  </thead>\n",
              "  <tbody>\n",
              "    <tr>\n",
              "      <th>0</th>\n",
              "      <td>619</td>\n",
              "      <td>42</td>\n",
              "      <td>2</td>\n",
              "      <td>0.00</td>\n",
              "      <td>1</td>\n",
              "      <td>1</td>\n",
              "      <td>1</td>\n",
              "      <td>101348.88</td>\n",
              "      <td>1</td>\n",
              "      <td>0</td>\n",
              "      <td>0</td>\n",
              "      <td>1</td>\n",
              "      <td>0</td>\n",
              "    </tr>\n",
              "    <tr>\n",
              "      <th>1</th>\n",
              "      <td>608</td>\n",
              "      <td>41</td>\n",
              "      <td>1</td>\n",
              "      <td>83807.86</td>\n",
              "      <td>1</td>\n",
              "      <td>0</td>\n",
              "      <td>1</td>\n",
              "      <td>112542.58</td>\n",
              "      <td>0</td>\n",
              "      <td>0</td>\n",
              "      <td>1</td>\n",
              "      <td>1</td>\n",
              "      <td>0</td>\n",
              "    </tr>\n",
              "    <tr>\n",
              "      <th>2</th>\n",
              "      <td>502</td>\n",
              "      <td>42</td>\n",
              "      <td>8</td>\n",
              "      <td>159660.80</td>\n",
              "      <td>3</td>\n",
              "      <td>1</td>\n",
              "      <td>0</td>\n",
              "      <td>113931.57</td>\n",
              "      <td>1</td>\n",
              "      <td>0</td>\n",
              "      <td>0</td>\n",
              "      <td>1</td>\n",
              "      <td>0</td>\n",
              "    </tr>\n",
              "    <tr>\n",
              "      <th>3</th>\n",
              "      <td>699</td>\n",
              "      <td>39</td>\n",
              "      <td>1</td>\n",
              "      <td>0.00</td>\n",
              "      <td>2</td>\n",
              "      <td>0</td>\n",
              "      <td>0</td>\n",
              "      <td>93826.63</td>\n",
              "      <td>1</td>\n",
              "      <td>0</td>\n",
              "      <td>0</td>\n",
              "      <td>1</td>\n",
              "      <td>0</td>\n",
              "    </tr>\n",
              "    <tr>\n",
              "      <th>4</th>\n",
              "      <td>850</td>\n",
              "      <td>43</td>\n",
              "      <td>2</td>\n",
              "      <td>125510.82</td>\n",
              "      <td>1</td>\n",
              "      <td>1</td>\n",
              "      <td>1</td>\n",
              "      <td>79084.10</td>\n",
              "      <td>0</td>\n",
              "      <td>0</td>\n",
              "      <td>1</td>\n",
              "      <td>1</td>\n",
              "      <td>0</td>\n",
              "    </tr>\n",
              "  </tbody>\n",
              "</table>\n",
              "</div>"
            ],
            "text/plain": [
              "   CreditScore  Age  Tenure  ...  Geography_Spain  Gender_Female  Gender_Male\n",
              "0          619   42       2  ...                0              1            0\n",
              "1          608   41       1  ...                1              1            0\n",
              "2          502   42       8  ...                0              1            0\n",
              "3          699   39       1  ...                0              1            0\n",
              "4          850   43       2  ...                1              1            0\n",
              "\n",
              "[5 rows x 13 columns]"
            ]
          },
          "metadata": {},
          "execution_count": 181
        }
      ]
    },
    {
      "cell_type": "code",
      "metadata": {
        "id": "Wg2I7Eylk-1v"
      },
      "source": [
        "y = df[\"Exited\"].astype('float')"
      ],
      "id": "Wg2I7Eylk-1v",
      "execution_count": null,
      "outputs": []
    },
    {
      "cell_type": "code",
      "metadata": {
        "colab": {
          "base_uri": "https://localhost:8080/"
        },
        "id": "PNHa2ydXlAmT",
        "outputId": "9f078a80-8b7a-4f0b-fca0-0e9762693730"
      },
      "source": [
        "y.head()"
      ],
      "id": "PNHa2ydXlAmT",
      "execution_count": null,
      "outputs": [
        {
          "output_type": "execute_result",
          "data": {
            "text/plain": [
              "0    1.0\n",
              "1    0.0\n",
              "2    1.0\n",
              "3    0.0\n",
              "4    0.0\n",
              "Name: Exited, dtype: float64"
            ]
          },
          "metadata": {},
          "execution_count": 183
        }
      ]
    },
    {
      "cell_type": "markdown",
      "metadata": {
        "id": "DPUf8S5-myoN"
      },
      "source": [
        "## Age Modification for Differentially Private"
      ],
      "id": "DPUf8S5-myoN"
    },
    {
      "cell_type": "markdown",
      "metadata": {
        "id": "Y3JmGqqnhhL1"
      },
      "source": [
        "## Age Modification\n",
        "\n",
        "### Nearest 5\n",
        "### Interval Average\n",
        "### Nearest 10 "
      ],
      "id": "Y3JmGqqnhhL1"
    },
    {
      "cell_type": "code",
      "metadata": {
        "id": "1ZhGI0VXhKJW"
      },
      "source": [
        "df['Age'] -= df['Age'] % 10"
      ],
      "id": "1ZhGI0VXhKJW",
      "execution_count": null,
      "outputs": []
    },
    {
      "cell_type": "code",
      "metadata": {
        "id": "jVSisrSEqxsk"
      },
      "source": [
        "df = df.drop(columns=[\"Age\"], axis=1) #Tried Dropping, reduces from 85 to 82, not very significant"
      ],
      "id": "jVSisrSEqxsk",
      "execution_count": null,
      "outputs": []
    },
    {
      "cell_type": "markdown",
      "metadata": {
        "id": "zm73rZPAsPOU"
      },
      "source": [
        "Test Set Ready"
      ],
      "id": "zm73rZPAsPOU"
    },
    {
      "cell_type": "code",
      "metadata": {
        "id": "jkGLGHPVsQiM"
      },
      "source": [
        "new_test_df = pd.read_csv(\"Test_Churn.csv\")"
      ],
      "id": "jkGLGHPVsQiM",
      "execution_count": null,
      "outputs": []
    },
    {
      "cell_type": "code",
      "metadata": {
        "id": "GxoMwcGNsgAC"
      },
      "source": [
        "X_test = new_test_df.loc[:, new_test_df.columns != 'Exited']"
      ],
      "id": "GxoMwcGNsgAC",
      "execution_count": null,
      "outputs": []
    },
    {
      "cell_type": "code",
      "metadata": {
        "colab": {
          "base_uri": "https://localhost:8080/",
          "height": 437
        },
        "id": "8MGvz3-EtkOr",
        "outputId": "c866d8f2-1d78-47b5-831e-7b928b8bec4f"
      },
      "source": [
        "X_test"
      ],
      "id": "8MGvz3-EtkOr",
      "execution_count": null,
      "outputs": [
        {
          "output_type": "execute_result",
          "data": {
            "text/html": [
              "<div>\n",
              "<style scoped>\n",
              "    .dataframe tbody tr th:only-of-type {\n",
              "        vertical-align: middle;\n",
              "    }\n",
              "\n",
              "    .dataframe tbody tr th {\n",
              "        vertical-align: top;\n",
              "    }\n",
              "\n",
              "    .dataframe thead th {\n",
              "        text-align: right;\n",
              "    }\n",
              "</style>\n",
              "<table border=\"1\" class=\"dataframe\">\n",
              "  <thead>\n",
              "    <tr style=\"text-align: right;\">\n",
              "      <th></th>\n",
              "      <th>CreditScore</th>\n",
              "      <th>Age</th>\n",
              "      <th>Tenure</th>\n",
              "      <th>Balance</th>\n",
              "      <th>NumOfProducts</th>\n",
              "      <th>HasCrCard</th>\n",
              "      <th>IsActiveMember</th>\n",
              "      <th>EstimatedSalary</th>\n",
              "      <th>Geography_France</th>\n",
              "      <th>Geography_Germany</th>\n",
              "      <th>Geography_Spain</th>\n",
              "      <th>Gender_Female</th>\n",
              "      <th>Gender_Male</th>\n",
              "    </tr>\n",
              "  </thead>\n",
              "  <tbody>\n",
              "    <tr>\n",
              "      <th>0</th>\n",
              "      <td>799</td>\n",
              "      <td>63</td>\n",
              "      <td>1</td>\n",
              "      <td>110314.21</td>\n",
              "      <td>2</td>\n",
              "      <td>1</td>\n",
              "      <td>0</td>\n",
              "      <td>37464.00</td>\n",
              "      <td>1</td>\n",
              "      <td>0</td>\n",
              "      <td>0</td>\n",
              "      <td>1</td>\n",
              "      <td>0</td>\n",
              "    </tr>\n",
              "    <tr>\n",
              "      <th>1</th>\n",
              "      <td>570</td>\n",
              "      <td>29</td>\n",
              "      <td>4</td>\n",
              "      <td>153040.03</td>\n",
              "      <td>1</td>\n",
              "      <td>1</td>\n",
              "      <td>1</td>\n",
              "      <td>131363.57</td>\n",
              "      <td>1</td>\n",
              "      <td>0</td>\n",
              "      <td>0</td>\n",
              "      <td>1</td>\n",
              "      <td>0</td>\n",
              "    </tr>\n",
              "    <tr>\n",
              "      <th>2</th>\n",
              "      <td>736</td>\n",
              "      <td>57</td>\n",
              "      <td>9</td>\n",
              "      <td>95295.39</td>\n",
              "      <td>1</td>\n",
              "      <td>1</td>\n",
              "      <td>0</td>\n",
              "      <td>28434.44</td>\n",
              "      <td>0</td>\n",
              "      <td>1</td>\n",
              "      <td>0</td>\n",
              "      <td>0</td>\n",
              "      <td>1</td>\n",
              "    </tr>\n",
              "    <tr>\n",
              "      <th>3</th>\n",
              "      <td>686</td>\n",
              "      <td>47</td>\n",
              "      <td>6</td>\n",
              "      <td>0.00</td>\n",
              "      <td>1</td>\n",
              "      <td>1</td>\n",
              "      <td>0</td>\n",
              "      <td>32080.69</td>\n",
              "      <td>0</td>\n",
              "      <td>0</td>\n",
              "      <td>1</td>\n",
              "      <td>1</td>\n",
              "      <td>0</td>\n",
              "    </tr>\n",
              "    <tr>\n",
              "      <th>4</th>\n",
              "      <td>624</td>\n",
              "      <td>45</td>\n",
              "      <td>3</td>\n",
              "      <td>68639.57</td>\n",
              "      <td>1</td>\n",
              "      <td>1</td>\n",
              "      <td>0</td>\n",
              "      <td>168002.31</td>\n",
              "      <td>1</td>\n",
              "      <td>0</td>\n",
              "      <td>0</td>\n",
              "      <td>1</td>\n",
              "      <td>0</td>\n",
              "    </tr>\n",
              "    <tr>\n",
              "      <th>...</th>\n",
              "      <td>...</td>\n",
              "      <td>...</td>\n",
              "      <td>...</td>\n",
              "      <td>...</td>\n",
              "      <td>...</td>\n",
              "      <td>...</td>\n",
              "      <td>...</td>\n",
              "      <td>...</td>\n",
              "      <td>...</td>\n",
              "      <td>...</td>\n",
              "      <td>...</td>\n",
              "      <td>...</td>\n",
              "      <td>...</td>\n",
              "    </tr>\n",
              "    <tr>\n",
              "      <th>95</th>\n",
              "      <td>601</td>\n",
              "      <td>41</td>\n",
              "      <td>1</td>\n",
              "      <td>0.00</td>\n",
              "      <td>2</td>\n",
              "      <td>0</td>\n",
              "      <td>1</td>\n",
              "      <td>160607.06</td>\n",
              "      <td>1</td>\n",
              "      <td>0</td>\n",
              "      <td>0</td>\n",
              "      <td>1</td>\n",
              "      <td>0</td>\n",
              "    </tr>\n",
              "    <tr>\n",
              "      <th>96</th>\n",
              "      <td>613</td>\n",
              "      <td>36</td>\n",
              "      <td>9</td>\n",
              "      <td>131307.11</td>\n",
              "      <td>1</td>\n",
              "      <td>0</td>\n",
              "      <td>0</td>\n",
              "      <td>83343.73</td>\n",
              "      <td>1</td>\n",
              "      <td>0</td>\n",
              "      <td>0</td>\n",
              "      <td>0</td>\n",
              "      <td>1</td>\n",
              "    </tr>\n",
              "    <tr>\n",
              "      <th>97</th>\n",
              "      <td>465</td>\n",
              "      <td>24</td>\n",
              "      <td>6</td>\n",
              "      <td>156007.09</td>\n",
              "      <td>1</td>\n",
              "      <td>1</td>\n",
              "      <td>0</td>\n",
              "      <td>191368.37</td>\n",
              "      <td>0</td>\n",
              "      <td>1</td>\n",
              "      <td>0</td>\n",
              "      <td>0</td>\n",
              "      <td>1</td>\n",
              "    </tr>\n",
              "    <tr>\n",
              "      <th>98</th>\n",
              "      <td>774</td>\n",
              "      <td>35</td>\n",
              "      <td>3</td>\n",
              "      <td>121418.62</td>\n",
              "      <td>1</td>\n",
              "      <td>1</td>\n",
              "      <td>1</td>\n",
              "      <td>24400.37</td>\n",
              "      <td>1</td>\n",
              "      <td>0</td>\n",
              "      <td>0</td>\n",
              "      <td>1</td>\n",
              "      <td>0</td>\n",
              "    </tr>\n",
              "    <tr>\n",
              "      <th>99</th>\n",
              "      <td>643</td>\n",
              "      <td>34</td>\n",
              "      <td>7</td>\n",
              "      <td>160426.07</td>\n",
              "      <td>1</td>\n",
              "      <td>0</td>\n",
              "      <td>1</td>\n",
              "      <td>188533.11</td>\n",
              "      <td>0</td>\n",
              "      <td>1</td>\n",
              "      <td>0</td>\n",
              "      <td>1</td>\n",
              "      <td>0</td>\n",
              "    </tr>\n",
              "  </tbody>\n",
              "</table>\n",
              "<p>100 rows × 13 columns</p>\n",
              "</div>"
            ],
            "text/plain": [
              "    CreditScore  Age  Tenure  ...  Geography_Spain  Gender_Female  Gender_Male\n",
              "0           799   63       1  ...                0              1            0\n",
              "1           570   29       4  ...                0              1            0\n",
              "2           736   57       9  ...                0              0            1\n",
              "3           686   47       6  ...                1              1            0\n",
              "4           624   45       3  ...                0              1            0\n",
              "..          ...  ...     ...  ...              ...            ...          ...\n",
              "95          601   41       1  ...                0              1            0\n",
              "96          613   36       9  ...                0              0            1\n",
              "97          465   24       6  ...                0              0            1\n",
              "98          774   35       3  ...                0              1            0\n",
              "99          643   34       7  ...                0              1            0\n",
              "\n",
              "[100 rows x 13 columns]"
            ]
          },
          "metadata": {},
          "execution_count": 9
        }
      ]
    },
    {
      "cell_type": "code",
      "metadata": {
        "id": "JO51rZsMsoHf"
      },
      "source": [
        "y_test = new_test_df[\"Exited\"].astype('float')"
      ],
      "id": "JO51rZsMsoHf",
      "execution_count": null,
      "outputs": []
    },
    {
      "cell_type": "code",
      "metadata": {
        "colab": {
          "base_uri": "https://localhost:8080/"
        },
        "id": "1-cdWfuCst5G",
        "outputId": "a9279806-72a4-4063-e1a8-e44e1682b211"
      },
      "source": [
        "y_test.head()"
      ],
      "id": "1-cdWfuCst5G",
      "execution_count": null,
      "outputs": [
        {
          "output_type": "execute_result",
          "data": {
            "text/plain": [
              "0    1.0\n",
              "1    1.0\n",
              "2    1.0\n",
              "3    1.0\n",
              "4    1.0\n",
              "Name: Exited, dtype: float64"
            ]
          },
          "metadata": {},
          "execution_count": 11
        }
      ]
    },
    {
      "cell_type": "markdown",
      "metadata": {
        "id": "cZR5vacunjR-"
      },
      "source": [
        "Run After Age Modification"
      ],
      "id": "cZR5vacunjR-"
    },
    {
      "cell_type": "code",
      "metadata": {
        "execution": {
          "iopub.execute_input": "2021-07-01T16:14:47.526549Z",
          "iopub.status.busy": "2021-07-01T16:14:47.525547Z",
          "iopub.status.idle": "2021-07-01T16:14:47.784342Z",
          "shell.execute_reply": "2021-07-01T16:14:47.783589Z",
          "shell.execute_reply.started": "2021-05-20T18:51:40.046952Z"
        },
        "papermill": {
          "duration": 0.301846,
          "end_time": "2021-07-01T16:14:47.784502",
          "exception": false,
          "start_time": "2021-07-01T16:14:47.482656",
          "status": "completed"
        },
        "tags": [],
        "id": "declared-shooting"
      },
      "source": [
        "from sklearn.model_selection import train_test_split\n",
        "\n",
        "X_train, X_test, y_train, y_test = train_test_split(X, y, test_size = 0.01, random_state = 1, stratify=y)\n"
      ],
      "id": "declared-shooting",
      "execution_count": null,
      "outputs": []
    },
    {
      "cell_type": "code",
      "metadata": {
        "colab": {
          "base_uri": "https://localhost:8080/",
          "height": 437
        },
        "id": "xoTsEjWDlE0B",
        "outputId": "c8a678a4-9191-4b17-8dfd-16be309205b6"
      },
      "source": [
        "X_train"
      ],
      "id": "xoTsEjWDlE0B",
      "execution_count": null,
      "outputs": [
        {
          "output_type": "execute_result",
          "data": {
            "text/html": [
              "<div>\n",
              "<style scoped>\n",
              "    .dataframe tbody tr th:only-of-type {\n",
              "        vertical-align: middle;\n",
              "    }\n",
              "\n",
              "    .dataframe tbody tr th {\n",
              "        vertical-align: top;\n",
              "    }\n",
              "\n",
              "    .dataframe thead th {\n",
              "        text-align: right;\n",
              "    }\n",
              "</style>\n",
              "<table border=\"1\" class=\"dataframe\">\n",
              "  <thead>\n",
              "    <tr style=\"text-align: right;\">\n",
              "      <th></th>\n",
              "      <th>CreditScore</th>\n",
              "      <th>Age</th>\n",
              "      <th>Tenure</th>\n",
              "      <th>Balance</th>\n",
              "      <th>NumOfProducts</th>\n",
              "      <th>HasCrCard</th>\n",
              "      <th>IsActiveMember</th>\n",
              "      <th>EstimatedSalary</th>\n",
              "      <th>Geography_France</th>\n",
              "      <th>Geography_Germany</th>\n",
              "      <th>Geography_Spain</th>\n",
              "      <th>Gender_Female</th>\n",
              "      <th>Gender_Male</th>\n",
              "    </tr>\n",
              "  </thead>\n",
              "  <tbody>\n",
              "    <tr>\n",
              "      <th>861</th>\n",
              "      <td>548</td>\n",
              "      <td>32</td>\n",
              "      <td>2</td>\n",
              "      <td>172448.77</td>\n",
              "      <td>1</td>\n",
              "      <td>1</td>\n",
              "      <td>0</td>\n",
              "      <td>188083.77</td>\n",
              "      <td>1</td>\n",
              "      <td>0</td>\n",
              "      <td>0</td>\n",
              "      <td>1</td>\n",
              "      <td>0</td>\n",
              "    </tr>\n",
              "    <tr>\n",
              "      <th>3285</th>\n",
              "      <td>735</td>\n",
              "      <td>43</td>\n",
              "      <td>9</td>\n",
              "      <td>98807.45</td>\n",
              "      <td>1</td>\n",
              "      <td>0</td>\n",
              "      <td>0</td>\n",
              "      <td>184570.04</td>\n",
              "      <td>0</td>\n",
              "      <td>1</td>\n",
              "      <td>0</td>\n",
              "      <td>1</td>\n",
              "      <td>0</td>\n",
              "    </tr>\n",
              "    <tr>\n",
              "      <th>7532</th>\n",
              "      <td>760</td>\n",
              "      <td>33</td>\n",
              "      <td>1</td>\n",
              "      <td>118114.28</td>\n",
              "      <td>2</td>\n",
              "      <td>0</td>\n",
              "      <td>1</td>\n",
              "      <td>156660.21</td>\n",
              "      <td>0</td>\n",
              "      <td>0</td>\n",
              "      <td>1</td>\n",
              "      <td>1</td>\n",
              "      <td>0</td>\n",
              "    </tr>\n",
              "    <tr>\n",
              "      <th>1845</th>\n",
              "      <td>737</td>\n",
              "      <td>36</td>\n",
              "      <td>9</td>\n",
              "      <td>0.00</td>\n",
              "      <td>1</td>\n",
              "      <td>0</td>\n",
              "      <td>1</td>\n",
              "      <td>188670.90</td>\n",
              "      <td>1</td>\n",
              "      <td>0</td>\n",
              "      <td>0</td>\n",
              "      <td>0</td>\n",
              "      <td>1</td>\n",
              "    </tr>\n",
              "    <tr>\n",
              "      <th>8051</th>\n",
              "      <td>605</td>\n",
              "      <td>56</td>\n",
              "      <td>1</td>\n",
              "      <td>74129.18</td>\n",
              "      <td>2</td>\n",
              "      <td>1</td>\n",
              "      <td>1</td>\n",
              "      <td>62199.78</td>\n",
              "      <td>0</td>\n",
              "      <td>1</td>\n",
              "      <td>0</td>\n",
              "      <td>1</td>\n",
              "      <td>0</td>\n",
              "    </tr>\n",
              "    <tr>\n",
              "      <th>...</th>\n",
              "      <td>...</td>\n",
              "      <td>...</td>\n",
              "      <td>...</td>\n",
              "      <td>...</td>\n",
              "      <td>...</td>\n",
              "      <td>...</td>\n",
              "      <td>...</td>\n",
              "      <td>...</td>\n",
              "      <td>...</td>\n",
              "      <td>...</td>\n",
              "      <td>...</td>\n",
              "      <td>...</td>\n",
              "      <td>...</td>\n",
              "    </tr>\n",
              "    <tr>\n",
              "      <th>6738</th>\n",
              "      <td>573</td>\n",
              "      <td>35</td>\n",
              "      <td>9</td>\n",
              "      <td>134498.54</td>\n",
              "      <td>2</td>\n",
              "      <td>1</td>\n",
              "      <td>1</td>\n",
              "      <td>119924.80</td>\n",
              "      <td>0</td>\n",
              "      <td>1</td>\n",
              "      <td>0</td>\n",
              "      <td>0</td>\n",
              "      <td>1</td>\n",
              "    </tr>\n",
              "    <tr>\n",
              "      <th>6278</th>\n",
              "      <td>602</td>\n",
              "      <td>72</td>\n",
              "      <td>3</td>\n",
              "      <td>0.00</td>\n",
              "      <td>2</td>\n",
              "      <td>1</td>\n",
              "      <td>1</td>\n",
              "      <td>171260.66</td>\n",
              "      <td>1</td>\n",
              "      <td>0</td>\n",
              "      <td>0</td>\n",
              "      <td>1</td>\n",
              "      <td>0</td>\n",
              "    </tr>\n",
              "    <tr>\n",
              "      <th>3361</th>\n",
              "      <td>602</td>\n",
              "      <td>48</td>\n",
              "      <td>7</td>\n",
              "      <td>76595.08</td>\n",
              "      <td>2</td>\n",
              "      <td>0</td>\n",
              "      <td>0</td>\n",
              "      <td>127095.14</td>\n",
              "      <td>0</td>\n",
              "      <td>1</td>\n",
              "      <td>0</td>\n",
              "      <td>1</td>\n",
              "      <td>0</td>\n",
              "    </tr>\n",
              "    <tr>\n",
              "      <th>9357</th>\n",
              "      <td>418</td>\n",
              "      <td>46</td>\n",
              "      <td>9</td>\n",
              "      <td>0.00</td>\n",
              "      <td>1</td>\n",
              "      <td>1</td>\n",
              "      <td>1</td>\n",
              "      <td>81014.50</td>\n",
              "      <td>1</td>\n",
              "      <td>0</td>\n",
              "      <td>0</td>\n",
              "      <td>1</td>\n",
              "      <td>0</td>\n",
              "    </tr>\n",
              "    <tr>\n",
              "      <th>8407</th>\n",
              "      <td>726</td>\n",
              "      <td>28</td>\n",
              "      <td>2</td>\n",
              "      <td>0.00</td>\n",
              "      <td>1</td>\n",
              "      <td>0</td>\n",
              "      <td>0</td>\n",
              "      <td>98060.51</td>\n",
              "      <td>1</td>\n",
              "      <td>0</td>\n",
              "      <td>0</td>\n",
              "      <td>0</td>\n",
              "      <td>1</td>\n",
              "    </tr>\n",
              "  </tbody>\n",
              "</table>\n",
              "<p>9900 rows × 13 columns</p>\n",
              "</div>"
            ],
            "text/plain": [
              "      CreditScore  Age  Tenure  ...  Geography_Spain  Gender_Female  Gender_Male\n",
              "861           548   32       2  ...                0              1            0\n",
              "3285          735   43       9  ...                0              1            0\n",
              "7532          760   33       1  ...                1              1            0\n",
              "1845          737   36       9  ...                0              0            1\n",
              "8051          605   56       1  ...                0              1            0\n",
              "...           ...  ...     ...  ...              ...            ...          ...\n",
              "6738          573   35       9  ...                0              0            1\n",
              "6278          602   72       3  ...                0              1            0\n",
              "3361          602   48       7  ...                0              1            0\n",
              "9357          418   46       9  ...                0              1            0\n",
              "8407          726   28       2  ...                0              0            1\n",
              "\n",
              "[9900 rows x 13 columns]"
            ]
          },
          "metadata": {},
          "execution_count": 185
        }
      ]
    },
    {
      "cell_type": "code",
      "metadata": {
        "execution": {
          "iopub.execute_input": "2021-07-01T16:14:47.862404Z",
          "iopub.status.busy": "2021-07-01T16:14:47.861076Z",
          "iopub.status.idle": "2021-07-01T16:14:47.872231Z",
          "shell.execute_reply": "2021-07-01T16:14:47.872745Z",
          "shell.execute_reply.started": "2021-05-20T18:51:41.088693Z"
        },
        "papermill": {
          "duration": 0.053566,
          "end_time": "2021-07-01T16:14:47.872965",
          "exception": false,
          "start_time": "2021-07-01T16:14:47.819399",
          "status": "completed"
        },
        "tags": [],
        "id": "local-wrestling"
      },
      "source": [
        "# Scaling data\n",
        "\n",
        "from sklearn.preprocessing import StandardScaler\n",
        "\n",
        "sc = StandardScaler()\n",
        "X_train = sc.fit_transform(X_train)\n",
        "#X_val = sc.transform(X_val)\n",
        "X_test = sc.transform(X_test)\n",
        "# For final test scale and predict with train scaler"
      ],
      "id": "local-wrestling",
      "execution_count": null,
      "outputs": []
    },
    {
      "cell_type": "code",
      "metadata": {
        "id": "QoaaEPtg6ODH"
      },
      "source": [
        "import keras\n",
        "from keras.models import Sequential\n",
        "from keras.layers import Dense\n",
        "from keras.layers import Dropout\n",
        "from keras.layers import BatchNormalization\n",
        "callback = keras.callbacks.EarlyStopping(patience=40, restore_best_weights=True)"
      ],
      "id": "QoaaEPtg6ODH",
      "execution_count": null,
      "outputs": []
    },
    {
      "cell_type": "code",
      "metadata": {
        "id": "zOLviYHLnpCS"
      },
      "source": [
        " import time, datetime"
      ],
      "id": "zOLviYHLnpCS",
      "execution_count": null,
      "outputs": []
    },
    {
      "cell_type": "code",
      "metadata": {
        "execution": {
          "iopub.execute_input": "2021-07-01T16:14:48.021372Z",
          "iopub.status.busy": "2021-07-01T16:14:48.020367Z",
          "iopub.status.idle": "2021-07-01T16:15:31.153394Z",
          "shell.execute_reply": "2021-07-01T16:15:31.152412Z",
          "shell.execute_reply.started": "2021-05-20T19:08:57.191248Z"
        },
        "papermill": {
          "duration": 43.18063,
          "end_time": "2021-07-01T16:15:31.153601",
          "exception": false,
          "start_time": "2021-07-01T16:14:47.972971",
          "status": "completed"
        },
        "tags": [],
        "colab": {
          "base_uri": "https://localhost:8080/"
        },
        "id": "lesbian-cornwall",
        "outputId": "9db90c47-a613-4733-db4d-562b0adf25ce"
      },
      "source": [
        "# initializing ann\n",
        "model = Sequential()\n",
        "\n",
        "# adding the first input layer and the first hidden layer\n",
        "model.add(Dense(18, kernel_initializer = 'normal', activation = 'relu', input_shape = (13, )))\n",
        "\n",
        "# adding batch normalization and dropout layer\n",
        "model.add(Dropout(rate = 0.1))\n",
        "model.add(BatchNormalization())\n",
        "\n",
        "# adding the third hidden layer\n",
        "model.add(Dense(14, kernel_initializer = 'normal', activation = 'relu'))\n",
        "\n",
        "# adding batch normalization and dropout layer\n",
        "model.add(Dropout(rate = 0.1))\n",
        "model.add(BatchNormalization())\n",
        "\n",
        "model.add(Dense(10, kernel_initializer = 'normal', activation = 'relu'))\n",
        "\n",
        "# adding batch normalization and dropout layer\n",
        "model.add(Dropout(rate = 0.1))\n",
        "model.add(BatchNormalization())\n",
        "\n",
        "model.add(Dense(6, kernel_initializer = 'normal', activation = 'relu'))\n",
        "\n",
        "# adding batch normalization and dropout layer\n",
        "model.add(Dropout(rate = 0.05))\n",
        "model.add(BatchNormalization())\n",
        "\n",
        "# adding the output layer\n",
        "model.add(Dense(1, kernel_initializer = 'normal', activation = 'sigmoid'))\n",
        "\n",
        "# compiling the model\n",
        "model.compile(optimizer = 'adam', loss = 'binary_crossentropy', metrics = ['accuracy'])\n",
        "\n",
        "# fitting the model to the training set \n",
        "start = datetime.datetime.now()\n",
        "model_history = model.fit(X_train, y_train, validation_split = 0.1, epochs = 150, callbacks = [callback])\n",
        "end = datetime.datetime.now()\n",
        "print(\"Overall Training Time: \", (end - start))"
      ],
      "id": "lesbian-cornwall",
      "execution_count": null,
      "outputs": [
        {
          "output_type": "stream",
          "name": "stdout",
          "text": [
            "Epoch 1/150\n",
            "279/279 [==============================] - 2s 4ms/step - loss: 0.5956 - accuracy: 0.7150 - val_loss: 0.5378 - val_accuracy: 0.7889\n",
            "Epoch 2/150\n",
            "279/279 [==============================] - 1s 3ms/step - loss: 0.4424 - accuracy: 0.8116 - val_loss: 0.3928 - val_accuracy: 0.8394\n",
            "Epoch 3/150\n",
            "279/279 [==============================] - 1s 3ms/step - loss: 0.3944 - accuracy: 0.8329 - val_loss: 0.3667 - val_accuracy: 0.8505\n",
            "Epoch 4/150\n",
            "279/279 [==============================] - 1s 3ms/step - loss: 0.3826 - accuracy: 0.8367 - val_loss: 0.3529 - val_accuracy: 0.8616\n",
            "Epoch 5/150\n",
            "279/279 [==============================] - 1s 3ms/step - loss: 0.3776 - accuracy: 0.8384 - val_loss: 0.3563 - val_accuracy: 0.8576\n",
            "Epoch 6/150\n",
            "279/279 [==============================] - 1s 3ms/step - loss: 0.3745 - accuracy: 0.8412 - val_loss: 0.3606 - val_accuracy: 0.8495\n",
            "Epoch 7/150\n",
            "279/279 [==============================] - 1s 3ms/step - loss: 0.3665 - accuracy: 0.8440 - val_loss: 0.3500 - val_accuracy: 0.8596\n",
            "Epoch 8/150\n",
            "279/279 [==============================] - 1s 3ms/step - loss: 0.3705 - accuracy: 0.8413 - val_loss: 0.3505 - val_accuracy: 0.8556\n",
            "Epoch 9/150\n",
            "279/279 [==============================] - 1s 3ms/step - loss: 0.3679 - accuracy: 0.8453 - val_loss: 0.3510 - val_accuracy: 0.8576\n",
            "Epoch 10/150\n",
            "279/279 [==============================] - 1s 3ms/step - loss: 0.3676 - accuracy: 0.8479 - val_loss: 0.3499 - val_accuracy: 0.8556\n",
            "Epoch 11/150\n",
            "279/279 [==============================] - 1s 3ms/step - loss: 0.3678 - accuracy: 0.8468 - val_loss: 0.3476 - val_accuracy: 0.8576\n",
            "Epoch 12/150\n",
            "279/279 [==============================] - 1s 3ms/step - loss: 0.3660 - accuracy: 0.8461 - val_loss: 0.3528 - val_accuracy: 0.8596\n",
            "Epoch 13/150\n",
            "279/279 [==============================] - 1s 3ms/step - loss: 0.3645 - accuracy: 0.8483 - val_loss: 0.3502 - val_accuracy: 0.8576\n",
            "Epoch 14/150\n",
            "279/279 [==============================] - 1s 3ms/step - loss: 0.3668 - accuracy: 0.8475 - val_loss: 0.3471 - val_accuracy: 0.8556\n",
            "Epoch 15/150\n",
            "279/279 [==============================] - 1s 3ms/step - loss: 0.3608 - accuracy: 0.8505 - val_loss: 0.3484 - val_accuracy: 0.8576\n",
            "Epoch 16/150\n",
            "279/279 [==============================] - 1s 3ms/step - loss: 0.3649 - accuracy: 0.8467 - val_loss: 0.3473 - val_accuracy: 0.8596\n",
            "Epoch 17/150\n",
            "279/279 [==============================] - 1s 3ms/step - loss: 0.3596 - accuracy: 0.8531 - val_loss: 0.3452 - val_accuracy: 0.8606\n",
            "Epoch 18/150\n",
            "279/279 [==============================] - 1s 3ms/step - loss: 0.3571 - accuracy: 0.8512 - val_loss: 0.3445 - val_accuracy: 0.8596\n",
            "Epoch 19/150\n",
            "279/279 [==============================] - 1s 3ms/step - loss: 0.3608 - accuracy: 0.8524 - val_loss: 0.3447 - val_accuracy: 0.8586\n",
            "Epoch 20/150\n",
            "279/279 [==============================] - 1s 3ms/step - loss: 0.3609 - accuracy: 0.8468 - val_loss: 0.3487 - val_accuracy: 0.8545\n",
            "Epoch 21/150\n",
            "279/279 [==============================] - 1s 3ms/step - loss: 0.3544 - accuracy: 0.8504 - val_loss: 0.3517 - val_accuracy: 0.8545\n",
            "Epoch 22/150\n",
            "279/279 [==============================] - 1s 3ms/step - loss: 0.3570 - accuracy: 0.8515 - val_loss: 0.3505 - val_accuracy: 0.8545\n",
            "Epoch 23/150\n",
            "279/279 [==============================] - 1s 3ms/step - loss: 0.3560 - accuracy: 0.8513 - val_loss: 0.3517 - val_accuracy: 0.8535\n",
            "Epoch 24/150\n",
            "279/279 [==============================] - 1s 3ms/step - loss: 0.3598 - accuracy: 0.8487 - val_loss: 0.3531 - val_accuracy: 0.8525\n",
            "Epoch 25/150\n",
            "279/279 [==============================] - 1s 3ms/step - loss: 0.3602 - accuracy: 0.8512 - val_loss: 0.3514 - val_accuracy: 0.8606\n",
            "Epoch 26/150\n",
            "279/279 [==============================] - 1s 3ms/step - loss: 0.3574 - accuracy: 0.8527 - val_loss: 0.3496 - val_accuracy: 0.8535\n",
            "Epoch 27/150\n",
            "279/279 [==============================] - 1s 3ms/step - loss: 0.3589 - accuracy: 0.8519 - val_loss: 0.3520 - val_accuracy: 0.8556\n",
            "Epoch 28/150\n",
            "279/279 [==============================] - 1s 3ms/step - loss: 0.3551 - accuracy: 0.8547 - val_loss: 0.3670 - val_accuracy: 0.8444\n",
            "Epoch 29/150\n",
            "279/279 [==============================] - 1s 3ms/step - loss: 0.3583 - accuracy: 0.8507 - val_loss: 0.3527 - val_accuracy: 0.8566\n",
            "Epoch 30/150\n",
            "279/279 [==============================] - 1s 3ms/step - loss: 0.3557 - accuracy: 0.8560 - val_loss: 0.3509 - val_accuracy: 0.8556\n",
            "Epoch 31/150\n",
            "279/279 [==============================] - 1s 3ms/step - loss: 0.3541 - accuracy: 0.8535 - val_loss: 0.3522 - val_accuracy: 0.8606\n",
            "Epoch 32/150\n",
            "279/279 [==============================] - 1s 3ms/step - loss: 0.3531 - accuracy: 0.8538 - val_loss: 0.3476 - val_accuracy: 0.8596\n",
            "Epoch 33/150\n",
            "279/279 [==============================] - 1s 3ms/step - loss: 0.3568 - accuracy: 0.8525 - val_loss: 0.3462 - val_accuracy: 0.8525\n",
            "Epoch 34/150\n",
            "279/279 [==============================] - 1s 3ms/step - loss: 0.3583 - accuracy: 0.8534 - val_loss: 0.3502 - val_accuracy: 0.8616\n",
            "Epoch 35/150\n",
            "279/279 [==============================] - 1s 3ms/step - loss: 0.3562 - accuracy: 0.8530 - val_loss: 0.3518 - val_accuracy: 0.8556\n",
            "Epoch 36/150\n",
            "279/279 [==============================] - 1s 3ms/step - loss: 0.3532 - accuracy: 0.8539 - val_loss: 0.3572 - val_accuracy: 0.8576\n",
            "Epoch 37/150\n",
            "279/279 [==============================] - 1s 3ms/step - loss: 0.3580 - accuracy: 0.8504 - val_loss: 0.3611 - val_accuracy: 0.8495\n",
            "Epoch 38/150\n",
            "279/279 [==============================] - 1s 3ms/step - loss: 0.3545 - accuracy: 0.8515 - val_loss: 0.3494 - val_accuracy: 0.8586\n",
            "Epoch 39/150\n",
            "279/279 [==============================] - 1s 3ms/step - loss: 0.3573 - accuracy: 0.8531 - val_loss: 0.3533 - val_accuracy: 0.8535\n",
            "Epoch 40/150\n",
            "279/279 [==============================] - 1s 3ms/step - loss: 0.3553 - accuracy: 0.8550 - val_loss: 0.3473 - val_accuracy: 0.8525\n",
            "Epoch 41/150\n",
            "279/279 [==============================] - 1s 3ms/step - loss: 0.3542 - accuracy: 0.8529 - val_loss: 0.3494 - val_accuracy: 0.8566\n",
            "Epoch 42/150\n",
            "279/279 [==============================] - 1s 3ms/step - loss: 0.3541 - accuracy: 0.8540 - val_loss: 0.3478 - val_accuracy: 0.8556\n",
            "Epoch 43/150\n",
            "279/279 [==============================] - 1s 3ms/step - loss: 0.3487 - accuracy: 0.8574 - val_loss: 0.3497 - val_accuracy: 0.8515\n",
            "Epoch 44/150\n",
            "279/279 [==============================] - 1s 3ms/step - loss: 0.3568 - accuracy: 0.8531 - val_loss: 0.3503 - val_accuracy: 0.8556\n",
            "Epoch 45/150\n",
            "279/279 [==============================] - 1s 3ms/step - loss: 0.3557 - accuracy: 0.8574 - val_loss: 0.3492 - val_accuracy: 0.8556\n",
            "Epoch 46/150\n",
            "279/279 [==============================] - 1s 3ms/step - loss: 0.3482 - accuracy: 0.8581 - val_loss: 0.3429 - val_accuracy: 0.8616\n",
            "Epoch 47/150\n",
            "279/279 [==============================] - 1s 3ms/step - loss: 0.3504 - accuracy: 0.8567 - val_loss: 0.3458 - val_accuracy: 0.8576\n",
            "Epoch 48/150\n",
            "279/279 [==============================] - 1s 3ms/step - loss: 0.3514 - accuracy: 0.8569 - val_loss: 0.3428 - val_accuracy: 0.8616\n",
            "Epoch 49/150\n",
            "279/279 [==============================] - 1s 3ms/step - loss: 0.3552 - accuracy: 0.8548 - val_loss: 0.3448 - val_accuracy: 0.8606\n",
            "Epoch 50/150\n",
            "279/279 [==============================] - 1s 3ms/step - loss: 0.3478 - accuracy: 0.8560 - val_loss: 0.3458 - val_accuracy: 0.8606\n",
            "Epoch 51/150\n",
            "279/279 [==============================] - 1s 3ms/step - loss: 0.3500 - accuracy: 0.8606 - val_loss: 0.3505 - val_accuracy: 0.8556\n",
            "Epoch 52/150\n",
            "279/279 [==============================] - 1s 3ms/step - loss: 0.3512 - accuracy: 0.8545 - val_loss: 0.3474 - val_accuracy: 0.8616\n",
            "Epoch 53/150\n",
            "279/279 [==============================] - 1s 3ms/step - loss: 0.3549 - accuracy: 0.8561 - val_loss: 0.3493 - val_accuracy: 0.8606\n",
            "Epoch 54/150\n",
            "279/279 [==============================] - 1s 3ms/step - loss: 0.3509 - accuracy: 0.8590 - val_loss: 0.3483 - val_accuracy: 0.8566\n",
            "Epoch 55/150\n",
            "279/279 [==============================] - 1s 3ms/step - loss: 0.3525 - accuracy: 0.8567 - val_loss: 0.3429 - val_accuracy: 0.8566\n",
            "Epoch 56/150\n",
            "279/279 [==============================] - 1s 3ms/step - loss: 0.3506 - accuracy: 0.8614 - val_loss: 0.3472 - val_accuracy: 0.8556\n",
            "Epoch 57/150\n",
            "279/279 [==============================] - 1s 3ms/step - loss: 0.3540 - accuracy: 0.8572 - val_loss: 0.3475 - val_accuracy: 0.8566\n",
            "Epoch 58/150\n",
            "279/279 [==============================] - 1s 3ms/step - loss: 0.3514 - accuracy: 0.8586 - val_loss: 0.3482 - val_accuracy: 0.8576\n",
            "Epoch 59/150\n",
            "279/279 [==============================] - 1s 3ms/step - loss: 0.3510 - accuracy: 0.8588 - val_loss: 0.3464 - val_accuracy: 0.8545\n",
            "Epoch 60/150\n",
            "279/279 [==============================] - 1s 3ms/step - loss: 0.3510 - accuracy: 0.8565 - val_loss: 0.3428 - val_accuracy: 0.8586\n",
            "Epoch 61/150\n",
            "279/279 [==============================] - 1s 3ms/step - loss: 0.3506 - accuracy: 0.8563 - val_loss: 0.3390 - val_accuracy: 0.8586\n",
            "Epoch 62/150\n",
            "279/279 [==============================] - 1s 3ms/step - loss: 0.3479 - accuracy: 0.8567 - val_loss: 0.3456 - val_accuracy: 0.8535\n",
            "Epoch 63/150\n",
            "279/279 [==============================] - 1s 3ms/step - loss: 0.3507 - accuracy: 0.8538 - val_loss: 0.3426 - val_accuracy: 0.8586\n",
            "Epoch 64/150\n",
            "279/279 [==============================] - 1s 3ms/step - loss: 0.3513 - accuracy: 0.8584 - val_loss: 0.3440 - val_accuracy: 0.8576\n",
            "Epoch 65/150\n",
            "279/279 [==============================] - 1s 3ms/step - loss: 0.3479 - accuracy: 0.8568 - val_loss: 0.3468 - val_accuracy: 0.8545\n",
            "Epoch 66/150\n",
            "279/279 [==============================] - 1s 3ms/step - loss: 0.3535 - accuracy: 0.8538 - val_loss: 0.3575 - val_accuracy: 0.8505\n",
            "Epoch 67/150\n",
            "279/279 [==============================] - 1s 3ms/step - loss: 0.3489 - accuracy: 0.8557 - val_loss: 0.3465 - val_accuracy: 0.8606\n",
            "Epoch 68/150\n",
            "279/279 [==============================] - 1s 3ms/step - loss: 0.3462 - accuracy: 0.8597 - val_loss: 0.3490 - val_accuracy: 0.8525\n",
            "Epoch 69/150\n",
            "279/279 [==============================] - 1s 3ms/step - loss: 0.3493 - accuracy: 0.8563 - val_loss: 0.3470 - val_accuracy: 0.8545\n",
            "Epoch 70/150\n",
            "279/279 [==============================] - 1s 3ms/step - loss: 0.3475 - accuracy: 0.8576 - val_loss: 0.3437 - val_accuracy: 0.8576\n",
            "Epoch 71/150\n",
            "279/279 [==============================] - 1s 3ms/step - loss: 0.3451 - accuracy: 0.8570 - val_loss: 0.3503 - val_accuracy: 0.8586\n",
            "Epoch 72/150\n",
            "279/279 [==============================] - 1s 3ms/step - loss: 0.3505 - accuracy: 0.8586 - val_loss: 0.3491 - val_accuracy: 0.8566\n",
            "Epoch 73/150\n",
            "279/279 [==============================] - 1s 3ms/step - loss: 0.3455 - accuracy: 0.8616 - val_loss: 0.3464 - val_accuracy: 0.8566\n",
            "Epoch 74/150\n",
            "279/279 [==============================] - 1s 3ms/step - loss: 0.3433 - accuracy: 0.8608 - val_loss: 0.3448 - val_accuracy: 0.8636\n",
            "Epoch 75/150\n",
            "279/279 [==============================] - 1s 3ms/step - loss: 0.3468 - accuracy: 0.8558 - val_loss: 0.3454 - val_accuracy: 0.8576\n",
            "Epoch 76/150\n",
            "279/279 [==============================] - 1s 3ms/step - loss: 0.3468 - accuracy: 0.8577 - val_loss: 0.3495 - val_accuracy: 0.8586\n",
            "Epoch 77/150\n",
            "279/279 [==============================] - 1s 3ms/step - loss: 0.3480 - accuracy: 0.8589 - val_loss: 0.3478 - val_accuracy: 0.8586\n",
            "Epoch 78/150\n",
            "279/279 [==============================] - 1s 3ms/step - loss: 0.3508 - accuracy: 0.8552 - val_loss: 0.3484 - val_accuracy: 0.8566\n",
            "Epoch 79/150\n",
            "279/279 [==============================] - 1s 3ms/step - loss: 0.3451 - accuracy: 0.8605 - val_loss: 0.3490 - val_accuracy: 0.8606\n",
            "Epoch 80/150\n",
            "279/279 [==============================] - 1s 3ms/step - loss: 0.3513 - accuracy: 0.8561 - val_loss: 0.3471 - val_accuracy: 0.8586\n",
            "Epoch 81/150\n",
            "279/279 [==============================] - 1s 3ms/step - loss: 0.3443 - accuracy: 0.8572 - val_loss: 0.3407 - val_accuracy: 0.8576\n",
            "Epoch 82/150\n",
            "279/279 [==============================] - 1s 3ms/step - loss: 0.3468 - accuracy: 0.8572 - val_loss: 0.3483 - val_accuracy: 0.8556\n",
            "Epoch 83/150\n",
            "279/279 [==============================] - 1s 3ms/step - loss: 0.3450 - accuracy: 0.8581 - val_loss: 0.3459 - val_accuracy: 0.8556\n",
            "Epoch 84/150\n",
            "279/279 [==============================] - 1s 3ms/step - loss: 0.3453 - accuracy: 0.8579 - val_loss: 0.3483 - val_accuracy: 0.8586\n",
            "Epoch 85/150\n",
            "279/279 [==============================] - 1s 3ms/step - loss: 0.3487 - accuracy: 0.8545 - val_loss: 0.3524 - val_accuracy: 0.8606\n",
            "Epoch 86/150\n",
            "279/279 [==============================] - 1s 3ms/step - loss: 0.3485 - accuracy: 0.8560 - val_loss: 0.3504 - val_accuracy: 0.8586\n",
            "Epoch 87/150\n",
            "279/279 [==============================] - 1s 3ms/step - loss: 0.3439 - accuracy: 0.8596 - val_loss: 0.3432 - val_accuracy: 0.8596\n",
            "Epoch 88/150\n",
            "279/279 [==============================] - 1s 3ms/step - loss: 0.3477 - accuracy: 0.8599 - val_loss: 0.3422 - val_accuracy: 0.8626\n",
            "Epoch 89/150\n",
            "279/279 [==============================] - 1s 3ms/step - loss: 0.3442 - accuracy: 0.8595 - val_loss: 0.3462 - val_accuracy: 0.8525\n",
            "Epoch 90/150\n",
            "279/279 [==============================] - 1s 3ms/step - loss: 0.3480 - accuracy: 0.8580 - val_loss: 0.3458 - val_accuracy: 0.8566\n",
            "Epoch 91/150\n",
            "279/279 [==============================] - 1s 3ms/step - loss: 0.3460 - accuracy: 0.8586 - val_loss: 0.3479 - val_accuracy: 0.8606\n",
            "Epoch 92/150\n",
            "279/279 [==============================] - 1s 3ms/step - loss: 0.3456 - accuracy: 0.8597 - val_loss: 0.3487 - val_accuracy: 0.8586\n",
            "Epoch 93/150\n",
            "279/279 [==============================] - 1s 3ms/step - loss: 0.3422 - accuracy: 0.8604 - val_loss: 0.3441 - val_accuracy: 0.8586\n",
            "Epoch 94/150\n",
            "279/279 [==============================] - 1s 3ms/step - loss: 0.3440 - accuracy: 0.8608 - val_loss: 0.3501 - val_accuracy: 0.8545\n",
            "Epoch 95/150\n",
            "279/279 [==============================] - 1s 3ms/step - loss: 0.3463 - accuracy: 0.8599 - val_loss: 0.3503 - val_accuracy: 0.8576\n",
            "Epoch 96/150\n",
            "279/279 [==============================] - 1s 3ms/step - loss: 0.3487 - accuracy: 0.8580 - val_loss: 0.3479 - val_accuracy: 0.8576\n",
            "Epoch 97/150\n",
            "279/279 [==============================] - 1s 3ms/step - loss: 0.3415 - accuracy: 0.8603 - val_loss: 0.3436 - val_accuracy: 0.8566\n",
            "Epoch 98/150\n",
            "279/279 [==============================] - 1s 3ms/step - loss: 0.3445 - accuracy: 0.8606 - val_loss: 0.3478 - val_accuracy: 0.8606\n",
            "Epoch 99/150\n",
            "279/279 [==============================] - 1s 3ms/step - loss: 0.3419 - accuracy: 0.8633 - val_loss: 0.3480 - val_accuracy: 0.8556\n",
            "Epoch 100/150\n",
            "279/279 [==============================] - 1s 3ms/step - loss: 0.3470 - accuracy: 0.8586 - val_loss: 0.3527 - val_accuracy: 0.8596\n",
            "Epoch 101/150\n",
            "279/279 [==============================] - 1s 3ms/step - loss: 0.3468 - accuracy: 0.8591 - val_loss: 0.3512 - val_accuracy: 0.8566\n",
            "Overall Training Time:  0:01:22.714625\n"
          ]
        }
      ]
    },
    {
      "cell_type": "code",
      "metadata": {
        "id": "F9V7x7Xe2z3j",
        "colab": {
          "base_uri": "https://localhost:8080/"
        },
        "outputId": "3bf6e003-7c77-49f7-e6f8-3d536810b30b"
      },
      "source": [
        "model.summary()"
      ],
      "id": "F9V7x7Xe2z3j",
      "execution_count": null,
      "outputs": [
        {
          "output_type": "stream",
          "name": "stdout",
          "text": [
            "Model: \"sequential_13\"\n",
            "_________________________________________________________________\n",
            " Layer (type)                Output Shape              Param #   \n",
            "=================================================================\n",
            " dense_65 (Dense)            (None, 18)                252       \n",
            "                                                                 \n",
            " dropout_51 (Dropout)        (None, 18)                0         \n",
            "                                                                 \n",
            " batch_normalization_51 (Bat  (None, 18)               72        \n",
            " chNormalization)                                                \n",
            "                                                                 \n",
            " dense_66 (Dense)            (None, 14)                266       \n",
            "                                                                 \n",
            " dropout_52 (Dropout)        (None, 14)                0         \n",
            "                                                                 \n",
            " batch_normalization_52 (Bat  (None, 14)               56        \n",
            " chNormalization)                                                \n",
            "                                                                 \n",
            " dense_67 (Dense)            (None, 10)                150       \n",
            "                                                                 \n",
            " dropout_53 (Dropout)        (None, 10)                0         \n",
            "                                                                 \n",
            " batch_normalization_53 (Bat  (None, 10)               40        \n",
            " chNormalization)                                                \n",
            "                                                                 \n",
            " dense_68 (Dense)            (None, 6)                 66        \n",
            "                                                                 \n",
            " dropout_54 (Dropout)        (None, 6)                 0         \n",
            "                                                                 \n",
            " batch_normalization_54 (Bat  (None, 6)                24        \n",
            " chNormalization)                                                \n",
            "                                                                 \n",
            " dense_69 (Dense)            (None, 1)                 7         \n",
            "                                                                 \n",
            "=================================================================\n",
            "Total params: 933\n",
            "Trainable params: 837\n",
            "Non-trainable params: 96\n",
            "_________________________________________________________________\n"
          ]
        }
      ]
    },
    {
      "cell_type": "code",
      "metadata": {
        "execution": {
          "iopub.execute_input": "2021-07-01T16:15:32.195785Z",
          "iopub.status.busy": "2021-07-01T16:15:32.194709Z",
          "iopub.status.idle": "2021-07-01T16:15:32.409207Z",
          "shell.execute_reply": "2021-07-01T16:15:32.409739Z",
          "shell.execute_reply.started": "2021-05-20T19:09:30.966486Z"
        },
        "papermill": {
          "duration": 0.501005,
          "end_time": "2021-07-01T16:15:32.409934",
          "exception": false,
          "start_time": "2021-07-01T16:15:31.908929",
          "status": "completed"
        },
        "tags": [],
        "colab": {
          "base_uri": "https://localhost:8080/",
          "height": 435
        },
        "id": "aggregate-voltage",
        "outputId": "3bfd61d0-9b45-45f4-9f88-82142e82187f"
      },
      "source": [
        "plt.figure(figsize = (12, 6))\n",
        "\n",
        "train_loss = model_history.history['loss']\n",
        "val_loss = model_history.history['val_loss'] \n",
        "num_epochs = len(model_history.history['val_loss'])\n",
        "epoch = [i for i in range(1, num_epochs + 1)]\n",
        "sns.lineplot(epoch, train_loss, label = 'Training Loss')\n",
        "sns.lineplot(epoch, val_loss, label = 'Validation Loss')\n",
        "plt.title('Training and Validation Loss\\n')\n",
        "plt.xlabel('Epochs')\n",
        "plt.ylabel('Loss')\n",
        "plt.legend()\n",
        "plt.show()"
      ],
      "id": "aggregate-voltage",
      "execution_count": null,
      "outputs": [
        {
          "output_type": "display_data",
          "data": {
            "image/png": "[encoded data removed]",
            "text/plain": [
              "<Figure size 864x432 with 1 Axes>"
            ]
          },
          "metadata": {}
        }
      ]
    },
    {
      "cell_type": "code",
      "metadata": {
        "execution": {
          "iopub.execute_input": "2021-07-01T16:15:33.456198Z",
          "iopub.status.busy": "2021-07-01T16:15:33.455111Z",
          "iopub.status.idle": "2021-07-01T16:15:33.685429Z",
          "shell.execute_reply": "2021-07-01T16:15:33.685931Z",
          "shell.execute_reply.started": "2021-05-20T19:09:31.189198Z"
        },
        "papermill": {
          "duration": 0.515606,
          "end_time": "2021-07-01T16:15:33.686118",
          "exception": false,
          "start_time": "2021-07-01T16:15:33.170512",
          "status": "completed"
        },
        "tags": [],
        "colab": {
          "base_uri": "https://localhost:8080/",
          "height": 435
        },
        "id": "pleasant-journalist",
        "outputId": "426618e4-e8cd-4df1-8489-6a19ed722b9c"
      },
      "source": [
        "plt.figure(figsize = (12, 6))\n",
        "\n",
        "train_loss = model_history.history['accuracy']\n",
        "val_loss = model_history.history['val_accuracy'] \n",
        "num_epochs = len(model_history.history['val_loss'])\n",
        "epoch = [i for i in range(1, num_epochs + 1)]\n",
        "sns.lineplot(epoch, train_loss, label = 'Training accuracy')\n",
        "sns.lineplot(epoch, val_loss, label = 'Validation accuracy')\n",
        "plt.title('Training and Validation Accuracy\\n')\n",
        "plt.xlabel('Epochs')\n",
        "plt.ylabel('Accuracy')\n",
        "plt.legend()\n",
        "plt.show()"
      ],
      "id": "pleasant-journalist",
      "execution_count": null,
      "outputs": [
        {
          "output_type": "display_data",
          "data": {
            "image/png": "[encoded data removed]",
            "text/plain": [
              "<Figure size 864x432 with 1 Axes>"
            ]
          },
          "metadata": {}
        }
      ]
    },
    {
      "cell_type": "code",
      "metadata": {
        "execution": {
          "iopub.execute_input": "2021-07-01T16:15:34.199414Z",
          "iopub.status.busy": "2021-07-01T16:15:34.198747Z",
          "iopub.status.idle": "2021-07-01T16:15:34.308345Z",
          "shell.execute_reply": "2021-07-01T16:15:34.307834Z",
          "shell.execute_reply.started": "2021-05-20T19:09:31.432034Z"
        },
        "papermill": {
          "duration": 0.369332,
          "end_time": "2021-07-01T16:15:34.308496",
          "exception": false,
          "start_time": "2021-07-01T16:15:33.939164",
          "status": "completed"
        },
        "tags": [],
        "colab": {
          "base_uri": "https://localhost:8080/"
        },
        "id": "cardiovascular-nickname",
        "outputId": "643e238f-f870-4580-9e00-91a4c79c0e2d"
      },
      "source": [
        "acc = model.evaluate(X_test, y_test)[1]\n",
        "\n",
        "print(f'Accuracy of model is {acc}')"
      ],
      "id": "cardiovascular-nickname",
      "execution_count": null,
      "outputs": [
        {
          "output_type": "stream",
          "name": "stdout",
          "text": [
            "4/4 [==============================] - 0s 3ms/step - loss: 0.3482 - accuracy: 0.8900\n",
            "Accuracy of model is 0.8899999856948853\n"
          ]
        }
      ]
    },
    {
      "cell_type": "code",
      "metadata": {
        "id": "nTU4zSTH9YFX"
      },
      "source": [
        "threshold = 0.5\n",
        "y_prob = model.predict(X_test)\n",
        "y_pred = np.where(y_prob >= threshold, 1,0)"
      ],
      "id": "nTU4zSTH9YFX",
      "execution_count": null,
      "outputs": []
    },
    {
      "cell_type": "code",
      "metadata": {
        "id": "ZJbbqFpRu7A9"
      },
      "source": [
        " from sklearn.metrics import confusion_matrix\n",
        " from sklearn.metrics import precision_recall_fscore_support"
      ],
      "id": "ZJbbqFpRu7A9",
      "execution_count": null,
      "outputs": []
    },
    {
      "cell_type": "code",
      "metadata": {
        "colab": {
          "base_uri": "https://localhost:8080/",
          "height": 416
        },
        "id": "PE1WQCis-NIv",
        "outputId": "6a988b0e-7eab-4c76-f427-02d8d7ce3b03"
      },
      "source": [
        "# Confusion Matrix for Basic Logistic Regression Model\n",
        "conf_Log = confusion_matrix(y_test, y_pred)\n",
        "fig, axes = plt.subplots(figsize=(18,6))\n",
        "\n",
        "new_conf = pd.DataFrame(conf_Log, index = ['Label 0','Label 1'],columns = ['Predicted 0','Predicted 1'])\n",
        "\n",
        "\n",
        "sns.set(font_scale=1.3)\n",
        "sns.heatmap(new_conf.iloc[-1::-1,:], annot=True,fmt= 'g', ax = axes)\n",
        "axes.set_ylim([0,2]);\n",
        "axes.set_title('Churn Modelling Confusion Matrix')"
      ],
      "id": "PE1WQCis-NIv",
      "execution_count": null,
      "outputs": [
        {
          "output_type": "execute_result",
          "data": {
            "text/plain": [
              "Text(0.5, 1.0, 'Churn Modelling Confusion Matrix')"
            ]
          },
          "metadata": {},
          "execution_count": 204
        },
        {
          "output_type": "display_data",
          "data": {
            "image/png": "[encoded data removed]",
            "text/plain": [
              "<Figure size 1296x432 with 2 Axes>"
            ]
          },
          "metadata": {}
        }
      ]
    },
    {
      "cell_type": "code",
      "metadata": {
        "id": "0bMFGxqFCVs2"
      },
      "source": [
        "# Precision: Whenever Model Predicts True, how many times it is actually true\n",
        "# Recall: Out of all True, how many did the Model find out\n",
        "\n",
        "# Precision:   True Positives/(True Positives + False Positives)\n",
        "# Recall:   True Positives/(True Positives + False Negatives)\n",
        "\n",
        "TP = conf_Log[1][1]\n",
        "FP = conf_Log[0][1]\n",
        "TN = conf_Log[0][0]\n",
        "FN = conf_Log[1][0]"
      ],
      "id": "0bMFGxqFCVs2",
      "execution_count": null,
      "outputs": []
    },
    {
      "cell_type": "code",
      "metadata": {
        "colab": {
          "base_uri": "https://localhost:8080/"
        },
        "id": "QEMfyK4_D3vF",
        "outputId": "33cdaceb-2adf-4266-8014-ba3a9d95ea6b"
      },
      "source": [
        "Precision_Metric = TP/(TP + FP)\n",
        "print(\"Precision is:\", Precision_Metric)"
      ],
      "id": "QEMfyK4_D3vF",
      "execution_count": null,
      "outputs": [
        {
          "output_type": "stream",
          "name": "stdout",
          "text": [
            "Precision is: 0.8\n"
          ]
        }
      ]
    },
    {
      "cell_type": "code",
      "metadata": {
        "colab": {
          "base_uri": "https://localhost:8080/"
        },
        "id": "JkM9uWKgEJYD",
        "outputId": "2493a4ef-a5a5-4b61-f376-7100051f4f35"
      },
      "source": [
        "Recall_Metric = TP/(TP + FN)\n",
        "print(\"Recall is:\", Recall_Metric)"
      ],
      "id": "JkM9uWKgEJYD",
      "execution_count": null,
      "outputs": [
        {
          "output_type": "stream",
          "name": "stdout",
          "text": [
            "Recall is: 0.6\n"
          ]
        }
      ]
    },
    {
      "cell_type": "code",
      "metadata": {
        "colab": {
          "base_uri": "https://localhost:8080/"
        },
        "id": "0DDQ5gKgEkFP",
        "outputId": "8e40888c-63e1-47dd-9902-fb201acaa88e"
      },
      "source": [
        "F1_Metric = (2*Precision_Metric*Recall_Metric)/(Precision_Metric + Recall_Metric)\n",
        "print(\"F1 Score is:\", F1_Metric)"
      ],
      "id": "0DDQ5gKgEkFP",
      "execution_count": null,
      "outputs": [
        {
          "output_type": "stream",
          "name": "stdout",
          "text": [
            "F1 Score is: 0.6857142857142857\n"
          ]
        }
      ]
    },
    {
      "cell_type": "code",
      "metadata": {
        "id": "XDX3qxg1ExpU"
      },
      "source": [
        "#model.save_weights(\"model_normal_ANN_Age.h5\")"
      ],
      "id": "XDX3qxg1ExpU",
      "execution_count": null,
      "outputs": []
    },
    {
      "cell_type": "code",
      "metadata": {
        "id": "7DCVZ0KVP6iE"
      },
      "source": [
        ""
      ],
      "id": "7DCVZ0KVP6iE",
      "execution_count": null,
      "outputs": []
    }
  ]
}